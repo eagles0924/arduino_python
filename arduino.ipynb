{
 "cells": [
  {
   "cell_type": "markdown",
   "id": "34d45ee6",
   "metadata": {},
   "source": [
    "## 데이터 불러오기"
   ]
  },
  {
   "cell_type": "code",
   "execution_count": null,
   "id": "b5c22036",
   "metadata": {},
   "outputs": [],
   "source": [
    "'''\n",
    "CoolTerm 프로그램을 사용하는 경우, 몇 가지 문제점이 있다.\n",
    "첫번째, 아두이노의 실행 시작과, 텍스트 파일 저장 시작 시점이 동일하지 않다. 아두이노 실행 시작은 run으로, 텍스트 파일로의 저장은 Start 버튼을\n",
    "눌러 수동으로 시작해줘야 하기 때문이다.\n",
    "\n",
    "'''"
   ]
  },
  {
   "cell_type": "code",
   "execution_count": 100,
   "id": "01944836",
   "metadata": {},
   "outputs": [
    {
     "data": {
      "text/html": [
       "<div>\n",
       "<style scoped>\n",
       "    .dataframe tbody tr th:only-of-type {\n",
       "        vertical-align: middle;\n",
       "    }\n",
       "\n",
       "    .dataframe tbody tr th {\n",
       "        vertical-align: top;\n",
       "    }\n",
       "\n",
       "    .dataframe thead th {\n",
       "        text-align: right;\n",
       "    }\n",
       "</style>\n",
       "<table border=\"1\" class=\"dataframe\">\n",
       "  <thead>\n",
       "    <tr style=\"text-align: right;\">\n",
       "      <th></th>\n",
       "      <th>Voltage</th>\n",
       "      <th>pH</th>\n",
       "    </tr>\n",
       "  </thead>\n",
       "  <tbody>\n",
       "    <tr>\n",
       "      <th>0</th>\n",
       "      <td>0.00</td>\n",
       "      <td>0.51</td>\n",
       "    </tr>\n",
       "    <tr>\n",
       "      <th>1</th>\n",
       "      <td>0.05</td>\n",
       "      <td>0.68</td>\n",
       "    </tr>\n",
       "    <tr>\n",
       "      <th>2</th>\n",
       "      <td>0.10</td>\n",
       "      <td>0.85</td>\n",
       "    </tr>\n",
       "    <tr>\n",
       "      <th>3</th>\n",
       "      <td>0.15</td>\n",
       "      <td>1.02</td>\n",
       "    </tr>\n",
       "    <tr>\n",
       "      <th>4</th>\n",
       "      <td>0.19</td>\n",
       "      <td>1.19</td>\n",
       "    </tr>\n",
       "    <tr>\n",
       "      <th>...</th>\n",
       "      <td>...</td>\n",
       "      <td>...</td>\n",
       "    </tr>\n",
       "    <tr>\n",
       "      <th>545</th>\n",
       "      <td>1.73</td>\n",
       "      <td>6.57</td>\n",
       "    </tr>\n",
       "    <tr>\n",
       "      <th>546</th>\n",
       "      <td>1.72</td>\n",
       "      <td>6.53</td>\n",
       "    </tr>\n",
       "    <tr>\n",
       "      <th>547</th>\n",
       "      <td>1.71</td>\n",
       "      <td>6.49</td>\n",
       "    </tr>\n",
       "    <tr>\n",
       "      <th>548</th>\n",
       "      <td>1.70</td>\n",
       "      <td>6.45</td>\n",
       "    </tr>\n",
       "    <tr>\n",
       "      <th>549</th>\n",
       "      <td>1.68</td>\n",
       "      <td>6.41</td>\n",
       "    </tr>\n",
       "  </tbody>\n",
       "</table>\n",
       "<p>550 rows × 2 columns</p>\n",
       "</div>"
      ],
      "text/plain": [
       "     Voltage    pH\n",
       "0       0.00  0.51\n",
       "1       0.05  0.68\n",
       "2       0.10  0.85\n",
       "3       0.15  1.02\n",
       "4       0.19  1.19\n",
       "..       ...   ...\n",
       "545     1.73  6.57\n",
       "546     1.72  6.53\n",
       "547     1.71  6.49\n",
       "548     1.70  6.45\n",
       "549     1.68  6.41\n",
       "\n",
       "[550 rows x 2 columns]"
      ]
     },
     "execution_count": 100,
     "metadata": {},
     "output_type": "execute_result"
    }
   ],
   "source": [
    "import pandas as pd\n",
    "\n",
    "data = pd.read_csv(r\"C:\\Users\\lab\\Desktop\\WINTER\\변환 데이터\\CoolTerm Capture 2022-01-04 16-48-27.txt\",skiprows=4)\n",
    "data"
   ]
  },
  {
   "cell_type": "markdown",
   "id": "07617ba4",
   "metadata": {},
   "source": [
    "## Linear Regression"
   ]
  },
  {
   "cell_type": "code",
   "execution_count": 30,
   "id": "24c8c923",
   "metadata": {},
   "outputs": [],
   "source": [
    "import numpy as np\n",
    "import pandas as pd\n",
    "from sklearn.model_selection import train_test_split\n",
    "from sklearn.linear_model import LinearRegression\n",
    "from sklearn.metrics import mean_squared_error, r2_score"
   ]
  },
  {
   "cell_type": "code",
   "execution_count": 31,
   "id": "f265c536",
   "metadata": {},
   "outputs": [
    {
     "data": {
      "text/html": [
       "<div>\n",
       "<style scoped>\n",
       "    .dataframe tbody tr th:only-of-type {\n",
       "        vertical-align: middle;\n",
       "    }\n",
       "\n",
       "    .dataframe tbody tr th {\n",
       "        vertical-align: top;\n",
       "    }\n",
       "\n",
       "    .dataframe thead th {\n",
       "        text-align: right;\n",
       "    }\n",
       "</style>\n",
       "<table border=\"1\" class=\"dataframe\">\n",
       "  <thead>\n",
       "    <tr style=\"text-align: right;\">\n",
       "      <th></th>\n",
       "      <th>0</th>\n",
       "      <th>1</th>\n",
       "    </tr>\n",
       "  </thead>\n",
       "  <tbody>\n",
       "    <tr>\n",
       "      <th>0</th>\n",
       "      <td>1.23</td>\n",
       "      <td>4.64</td>\n",
       "    </tr>\n",
       "    <tr>\n",
       "      <th>1</th>\n",
       "      <td>1.23</td>\n",
       "      <td>4.64</td>\n",
       "    </tr>\n",
       "    <tr>\n",
       "      <th>2</th>\n",
       "      <td>1.23</td>\n",
       "      <td>4.64</td>\n",
       "    </tr>\n",
       "    <tr>\n",
       "      <th>3</th>\n",
       "      <td>1.23</td>\n",
       "      <td>4.64</td>\n",
       "    </tr>\n",
       "    <tr>\n",
       "      <th>4</th>\n",
       "      <td>1.23</td>\n",
       "      <td>4.64</td>\n",
       "    </tr>\n",
       "    <tr>\n",
       "      <th>...</th>\n",
       "      <td>...</td>\n",
       "      <td>...</td>\n",
       "    </tr>\n",
       "    <tr>\n",
       "      <th>1279</th>\n",
       "      <td>1.24</td>\n",
       "      <td>4.68</td>\n",
       "    </tr>\n",
       "    <tr>\n",
       "      <th>1280</th>\n",
       "      <td>1.24</td>\n",
       "      <td>4.68</td>\n",
       "    </tr>\n",
       "    <tr>\n",
       "      <th>1281</th>\n",
       "      <td>1.24</td>\n",
       "      <td>4.66</td>\n",
       "    </tr>\n",
       "    <tr>\n",
       "      <th>1282</th>\n",
       "      <td>1.23</td>\n",
       "      <td>4.63</td>\n",
       "    </tr>\n",
       "    <tr>\n",
       "      <th>1283</th>\n",
       "      <td>1.22</td>\n",
       "      <td>4.61</td>\n",
       "    </tr>\n",
       "  </tbody>\n",
       "</table>\n",
       "<p>1284 rows × 2 columns</p>\n",
       "</div>"
      ],
      "text/plain": [
       "         0     1\n",
       "0     1.23  4.64\n",
       "1     1.23  4.64\n",
       "2     1.23  4.64\n",
       "3     1.23  4.64\n",
       "4     1.23  4.64\n",
       "...    ...   ...\n",
       "1279  1.24  4.68\n",
       "1280  1.24  4.68\n",
       "1281  1.24  4.66\n",
       "1282  1.23  4.63\n",
       "1283  1.22  4.61\n",
       "\n",
       "[1284 rows x 2 columns]"
      ]
     },
     "execution_count": 31,
     "metadata": {},
     "output_type": "execute_result"
    }
   ],
   "source": [
    "df1 = pd.read_csv(r\"C:\\Users\\lab\\Desktop\\WINTER\\변환 데이터\\CoolTerm Capture 2021-12-27 17-12-37.txt\",header=None)\n",
    "df1"
   ]
  },
  {
   "cell_type": "code",
   "execution_count": 60,
   "id": "32081a6a",
   "metadata": {},
   "outputs": [],
   "source": [
    "xdata = np.array(df1[0])\n",
    "ydata = np.array(df1[1])"
   ]
  },
  {
   "cell_type": "code",
   "execution_count": 61,
   "id": "eb891898",
   "metadata": {},
   "outputs": [],
   "source": [
    "X_train, X_test, y_train, y_test = train_test_split(xdata, ydata, test_size=0.3, random_state=924)"
   ]
  },
  {
   "cell_type": "code",
   "execution_count": 34,
   "id": "a968bed5",
   "metadata": {
    "scrolled": true
   },
   "outputs": [
    {
     "data": {
      "text/plain": [
       "array([4.6009225 , 4.63387038, 4.6009225 , 4.6009225 , 4.63387038,\n",
       "       4.63387038, 4.63387038, 4.53502675, 4.63387038, 4.63387038,\n",
       "       4.56797463, 4.66681825, 4.6009225 , 4.6009225 , 4.66681825,\n",
       "       4.63387038, 4.6009225 , 4.56797463, 4.56797463, 4.56797463,\n",
       "       4.69976612, 4.63387038, 4.63387038, 4.6009225 , 4.6009225 ,\n",
       "       4.69976612, 4.66681825, 4.6009225 , 4.63387038, 4.6009225 ,\n",
       "       4.56797463, 4.63387038, 4.56797463, 4.732714  , 4.56797463,\n",
       "       4.63387038, 4.6009225 , 4.63387038, 4.6009225 , 4.66681825,\n",
       "       4.63387038, 4.6009225 , 4.53502675, 4.56797463, 4.6009225 ,\n",
       "       4.56797463, 4.69976612, 4.6009225 , 4.6009225 , 4.56797463,\n",
       "       4.63387038, 4.56797463, 4.63387038, 4.6009225 , 4.6009225 ,\n",
       "       4.56797463, 4.63387038, 4.66681825, 4.56797463, 4.63387038,\n",
       "       4.6009225 , 4.6009225 , 4.6009225 , 4.53502675, 4.69976612,\n",
       "       4.56797463, 4.63387038, 4.56797463, 4.6009225 , 4.53502675,\n",
       "       4.6009225 , 4.63387038, 4.6009225 , 4.6009225 , 4.56797463,\n",
       "       4.53502675, 4.66681825, 4.53502675, 4.56797463, 4.6009225 ,\n",
       "       4.6009225 , 4.6009225 , 4.56797463, 4.63387038, 4.56797463,\n",
       "       4.56797463, 4.63387038, 4.63387038, 4.6009225 , 4.6009225 ,\n",
       "       4.56797463, 4.63387038, 4.6009225 , 4.56797463, 4.732714  ,\n",
       "       4.56797463, 4.6009225 , 4.56797463, 4.6009225 , 4.69976612,\n",
       "       4.6009225 , 4.6009225 , 4.63387038, 4.6009225 , 4.63387038,\n",
       "       4.6009225 , 4.6009225 , 4.6009225 , 4.66681825, 4.56797463,\n",
       "       4.6009225 , 4.6009225 , 4.63387038, 4.6009225 , 4.56797463,\n",
       "       4.56797463, 4.56797463, 4.6009225 , 4.56797463, 4.56797463,\n",
       "       4.6009225 , 4.6009225 , 4.53502675, 4.6009225 , 4.6009225 ,\n",
       "       4.63387038, 4.56797463, 4.6009225 , 4.56797463, 4.56797463,\n",
       "       4.63387038, 4.66681825, 4.6009225 , 4.6009225 , 4.66681825,\n",
       "       4.63387038, 4.6009225 , 4.732714  , 4.63387038, 4.6009225 ,\n",
       "       4.53502675, 4.56797463, 4.63387038, 4.56797463, 4.63387038,\n",
       "       4.66681825, 4.66681825, 4.69976612, 4.56797463, 4.69976612,\n",
       "       4.56797463, 4.56797463, 4.63387038, 4.56797463, 4.63387038,\n",
       "       4.56797463, 4.63387038, 4.53502675, 4.56797463, 4.6009225 ,\n",
       "       4.56797463, 4.69976612, 4.66681825, 4.53502675, 4.56797463,\n",
       "       4.6009225 , 4.63387038, 4.6009225 , 4.63387038, 4.6009225 ,\n",
       "       4.63387038, 4.6009225 , 4.63387038, 4.63387038, 4.53502675,\n",
       "       4.63387038, 4.69976612, 4.69976612, 4.66681825, 4.63387038,\n",
       "       4.66681825, 4.66681825, 4.63387038, 4.6009225 , 4.6009225 ,\n",
       "       4.6009225 , 4.66681825, 4.63387038, 4.56797463, 4.63387038,\n",
       "       4.63387038, 4.6009225 , 4.56797463, 4.63387038, 4.56797463,\n",
       "       4.6009225 , 4.56797463, 4.63387038, 4.63387038, 4.63387038,\n",
       "       4.6009225 , 4.63387038, 4.56797463, 4.63387038, 4.56797463,\n",
       "       4.63387038, 4.56797463, 4.53502675, 4.6009225 , 4.6009225 ,\n",
       "       4.66681825, 4.63387038, 4.6009225 , 4.63387038, 4.63387038,\n",
       "       4.66681825, 4.6009225 , 4.56797463, 4.66681825, 4.69976612,\n",
       "       4.6009225 , 4.56797463, 4.6009225 , 4.56797463, 4.6009225 ,\n",
       "       4.6009225 , 4.6009225 , 4.53502675, 4.53502675, 4.53502675,\n",
       "       4.69976612, 4.63387038, 4.732714  , 4.66681825, 4.6009225 ,\n",
       "       4.6009225 , 4.6009225 , 4.6009225 , 4.56797463, 4.6009225 ,\n",
       "       4.56797463, 4.56797463, 4.63387038, 4.63387038, 4.6009225 ,\n",
       "       4.56797463, 4.53502675, 4.6009225 , 4.66681825, 4.6009225 ,\n",
       "       4.63387038, 4.56797463, 4.69976612, 4.63387038, 4.63387038,\n",
       "       4.6009225 , 4.6009225 , 4.63387038, 4.63387038, 4.6009225 ,\n",
       "       4.66681825, 4.66681825, 4.56797463, 4.6009225 , 4.63387038,\n",
       "       4.63387038, 4.6009225 , 4.6009225 , 4.6009225 , 4.56797463,\n",
       "       4.56797463, 4.6009225 , 4.6009225 , 4.6009225 , 4.63387038,\n",
       "       4.6009225 , 4.63387038, 4.63387038, 4.56797463, 4.66681825,\n",
       "       4.6009225 , 4.63387038, 4.56797463, 4.6009225 , 4.63387038,\n",
       "       4.63387038, 4.56797463, 4.6009225 , 4.53502675, 4.56797463,\n",
       "       4.69976612, 4.69976612, 4.6009225 , 4.63387038, 4.63387038,\n",
       "       4.56797463, 4.69976612, 4.6009225 , 4.6009225 , 4.63387038,\n",
       "       4.6009225 , 4.69976612, 4.6009225 , 4.56797463, 4.69976612,\n",
       "       4.56797463, 4.6009225 , 4.69976612, 4.6009225 , 4.56797463,\n",
       "       4.66681825, 4.6009225 , 4.56797463, 4.53502675, 4.66681825,\n",
       "       4.66681825, 4.56797463, 4.63387038, 4.63387038, 4.6009225 ,\n",
       "       4.6009225 , 4.56797463, 4.732714  , 4.6009225 , 4.66681825,\n",
       "       4.63387038, 4.6009225 , 4.6009225 , 4.53502675, 4.6009225 ,\n",
       "       4.69976612, 4.6009225 , 4.66681825, 4.6009225 , 4.63387038,\n",
       "       4.63387038, 4.56797463, 4.63387038, 4.53502675, 4.63387038,\n",
       "       4.6009225 , 4.6009225 , 4.6009225 , 4.63387038, 4.6009225 ,\n",
       "       4.6009225 , 4.69976612, 4.63387038, 4.6009225 , 4.63387038,\n",
       "       4.63387038, 4.66681825, 4.66681825, 4.56797463, 4.63387038,\n",
       "       4.56797463, 4.56797463, 4.56797463, 4.56797463, 4.63387038,\n",
       "       4.6009225 , 4.6009225 , 4.63387038, 4.56797463, 4.69976612,\n",
       "       4.69976612, 4.6009225 , 4.63387038, 4.6009225 , 4.6009225 ,\n",
       "       4.6009225 , 4.66681825, 4.63387038, 4.63387038, 4.63387038,\n",
       "       4.63387038, 4.63387038, 4.6009225 , 4.66681825, 4.6009225 ,\n",
       "       4.66681825, 4.6009225 , 4.56797463, 4.6009225 , 4.56797463,\n",
       "       4.69976612])"
      ]
     },
     "execution_count": 34,
     "metadata": {},
     "output_type": "execute_result"
    }
   ],
   "source": [
    "reg = LinearRegression()\n",
    "reg.fit(X_train.reshape(-1,1),y_train)\n",
    "pred = reg.predict(X_test.reshape(-1,1))\n",
    "pred"
   ]
  },
  {
   "cell_type": "code",
   "execution_count": 35,
   "id": "232cb3f9",
   "metadata": {},
   "outputs": [
    {
     "data": {
      "text/plain": [
       "0.00010893290870350916"
      ]
     },
     "execution_count": 35,
     "metadata": {},
     "output_type": "execute_result"
    }
   ],
   "source": [
    "mean_squared_error(y_test,pred)"
   ]
  },
  {
   "cell_type": "code",
   "execution_count": 36,
   "id": "7f24228e",
   "metadata": {},
   "outputs": [
    {
     "data": {
      "text/plain": [
       "0.9440694972833888"
      ]
     },
     "execution_count": 36,
     "metadata": {},
     "output_type": "execute_result"
    }
   ],
   "source": [
    "r2_score(y_test,pred)"
   ]
  },
  {
   "cell_type": "markdown",
   "id": "340d5e24",
   "metadata": {},
   "source": [
    "## Logistic Regression (분류)"
   ]
  },
  {
   "cell_type": "markdown",
   "id": "73f4f011",
   "metadata": {},
   "source": [
    "#### 종속변수가 이항형일 때만 사용가능하다는 단점이 있음"
   ]
  },
  {
   "attachments": {
    "KakaoTalk_20211203_003730196_03.jpg": {
     "image/jpeg": "[encoded data removed]"
    }
   },
   "cell_type": "markdown",
   "id": "0043e9cb",
   "metadata": {},
   "source": [
    "![KakaoTalk_20211203_003730196_03.jpg](attachment:KakaoTalk_20211203_003730196_03.jpg)"
   ]
  },
  {
   "cell_type": "code",
   "execution_count": 37,
   "id": "e7affc1b",
   "metadata": {
    "scrolled": true
   },
   "outputs": [
    {
     "data": {
      "text/html": [
       "<div>\n",
       "<style scoped>\n",
       "    .dataframe tbody tr th:only-of-type {\n",
       "        vertical-align: middle;\n",
       "    }\n",
       "\n",
       "    .dataframe tbody tr th {\n",
       "        vertical-align: top;\n",
       "    }\n",
       "\n",
       "    .dataframe thead th {\n",
       "        text-align: right;\n",
       "    }\n",
       "</style>\n",
       "<table border=\"1\" class=\"dataframe\">\n",
       "  <thead>\n",
       "    <tr style=\"text-align: right;\">\n",
       "      <th></th>\n",
       "      <th>측정소명</th>\n",
       "      <th>년/월</th>\n",
       "      <th>수온(℃)</th>\n",
       "      <th>용존산소(㎎/L)</th>\n",
       "      <th>BOD(㎎/L)</th>\n",
       "      <th>수소이온농도</th>\n",
       "      <th>분원성대장균군수</th>\n",
       "      <th>Do(100 %saturation)</th>\n",
       "      <th>DO(% saturation)</th>\n",
       "      <th>Do_index</th>\n",
       "      <th>FC_index</th>\n",
       "      <th>pH_index</th>\n",
       "      <th>BOD_index</th>\n",
       "      <th>WQI(수질평가지수)</th>\n",
       "      <th>class_WQI</th>\n",
       "      <th>Remarks</th>\n",
       "    </tr>\n",
       "  </thead>\n",
       "  <tbody>\n",
       "    <tr>\n",
       "      <th>0</th>\n",
       "      <td>안양천5</td>\n",
       "      <td>1997-01-20</td>\n",
       "      <td>5.0</td>\n",
       "      <td>6.6</td>\n",
       "      <td>23.8</td>\n",
       "      <td>8.0</td>\n",
       "      <td>80000</td>\n",
       "      <td>12.37</td>\n",
       "      <td>53.354891</td>\n",
       "      <td>48.875222</td>\n",
       "      <td>2.000000</td>\n",
       "      <td>78.160</td>\n",
       "      <td>9.626</td>\n",
       "      <td>39.533839</td>\n",
       "      <td>C</td>\n",
       "      <td>Polluted</td>\n",
       "    </tr>\n",
       "    <tr>\n",
       "      <th>1</th>\n",
       "      <td>안양천5</td>\n",
       "      <td>1997-02-12</td>\n",
       "      <td>5.0</td>\n",
       "      <td>5.5</td>\n",
       "      <td>21.3</td>\n",
       "      <td>8.1</td>\n",
       "      <td>130000</td>\n",
       "      <td>12.37</td>\n",
       "      <td>44.462409</td>\n",
       "      <td>38.471019</td>\n",
       "      <td>2.000000</td>\n",
       "      <td>75.175</td>\n",
       "      <td>12.701</td>\n",
       "      <td>36.149236</td>\n",
       "      <td>D</td>\n",
       "      <td>Polluted</td>\n",
       "    </tr>\n",
       "    <tr>\n",
       "      <th>2</th>\n",
       "      <td>안양천5</td>\n",
       "      <td>1997-03-17</td>\n",
       "      <td>10.0</td>\n",
       "      <td>3.0</td>\n",
       "      <td>16.5</td>\n",
       "      <td>7.7</td>\n",
       "      <td>1600000</td>\n",
       "      <td>10.92</td>\n",
       "      <td>27.472527</td>\n",
       "      <td>18.311868</td>\n",
       "      <td>2.000000</td>\n",
       "      <td>87.115</td>\n",
       "      <td>18.605</td>\n",
       "      <td>34.541979</td>\n",
       "      <td>D</td>\n",
       "      <td>Polluted</td>\n",
       "    </tr>\n",
       "    <tr>\n",
       "      <th>3</th>\n",
       "      <td>안양천5</td>\n",
       "      <td>1997-04-15</td>\n",
       "      <td>18.0</td>\n",
       "      <td>2.0</td>\n",
       "      <td>16.8</td>\n",
       "      <td>7.7</td>\n",
       "      <td>1700000</td>\n",
       "      <td>9.18</td>\n",
       "      <td>21.786492</td>\n",
       "      <td>14.559085</td>\n",
       "      <td>2.000000</td>\n",
       "      <td>87.115</td>\n",
       "      <td>18.236</td>\n",
       "      <td>33.297436</td>\n",
       "      <td>D</td>\n",
       "      <td>Polluted</td>\n",
       "    </tr>\n",
       "    <tr>\n",
       "      <th>4</th>\n",
       "      <td>안양천5</td>\n",
       "      <td>1997-05-12</td>\n",
       "      <td>19.0</td>\n",
       "      <td>1.2</td>\n",
       "      <td>14.1</td>\n",
       "      <td>7.7</td>\n",
       "      <td>500000</td>\n",
       "      <td>9.01</td>\n",
       "      <td>13.318535</td>\n",
       "      <td>8.970233</td>\n",
       "      <td>2.000000</td>\n",
       "      <td>87.115</td>\n",
       "      <td>21.557</td>\n",
       "      <td>32.295512</td>\n",
       "      <td>D</td>\n",
       "      <td>Polluted</td>\n",
       "    </tr>\n",
       "    <tr>\n",
       "      <th>...</th>\n",
       "      <td>...</td>\n",
       "      <td>...</td>\n",
       "      <td>...</td>\n",
       "      <td>...</td>\n",
       "      <td>...</td>\n",
       "      <td>...</td>\n",
       "      <td>...</td>\n",
       "      <td>...</td>\n",
       "      <td>...</td>\n",
       "      <td>...</td>\n",
       "      <td>...</td>\n",
       "      <td>...</td>\n",
       "      <td>...</td>\n",
       "      <td>...</td>\n",
       "      <td>...</td>\n",
       "      <td>...</td>\n",
       "    </tr>\n",
       "    <tr>\n",
       "      <th>865</th>\n",
       "      <td>탄천5</td>\n",
       "      <td>2021-01-12</td>\n",
       "      <td>6.7</td>\n",
       "      <td>13.0</td>\n",
       "      <td>3.2</td>\n",
       "      <td>6.8</td>\n",
       "      <td>6600</td>\n",
       "      <td>11.75</td>\n",
       "      <td>110.638298</td>\n",
       "      <td>94.744255</td>\n",
       "      <td>-25.829893</td>\n",
       "      <td>85.433</td>\n",
       "      <td>74.270</td>\n",
       "      <td>64.723679</td>\n",
       "      <td>A</td>\n",
       "      <td>Non-Polluted</td>\n",
       "    </tr>\n",
       "    <tr>\n",
       "      <th>866</th>\n",
       "      <td>탄천5</td>\n",
       "      <td>2021-02-04</td>\n",
       "      <td>7.5</td>\n",
       "      <td>10.6</td>\n",
       "      <td>4.1</td>\n",
       "      <td>6.8</td>\n",
       "      <td>12000</td>\n",
       "      <td>11.47</td>\n",
       "      <td>92.414996</td>\n",
       "      <td>94.575545</td>\n",
       "      <td>2.000000</td>\n",
       "      <td>85.433</td>\n",
       "      <td>67.970</td>\n",
       "      <td>68.573059</td>\n",
       "      <td>A</td>\n",
       "      <td>Non-Polluted</td>\n",
       "    </tr>\n",
       "    <tr>\n",
       "      <th>867</th>\n",
       "      <td>탄천5</td>\n",
       "      <td>2021-03-04</td>\n",
       "      <td>9.9</td>\n",
       "      <td>9.7</td>\n",
       "      <td>4.1</td>\n",
       "      <td>7.2</td>\n",
       "      <td>32000</td>\n",
       "      <td>10.92</td>\n",
       "      <td>88.827839</td>\n",
       "      <td>90.378571</td>\n",
       "      <td>2.000000</td>\n",
       "      <td>98.833</td>\n",
       "      <td>67.970</td>\n",
       "      <td>71.023997</td>\n",
       "      <td>A</td>\n",
       "      <td>Non-Polluted</td>\n",
       "    </tr>\n",
       "    <tr>\n",
       "      <th>868</th>\n",
       "      <td>탄천5</td>\n",
       "      <td>2021-04-01</td>\n",
       "      <td>16.4</td>\n",
       "      <td>9.0</td>\n",
       "      <td>2.2</td>\n",
       "      <td>7.0</td>\n",
       "      <td>8600</td>\n",
       "      <td>9.56</td>\n",
       "      <td>94.142259</td>\n",
       "      <td>96.596444</td>\n",
       "      <td>-27.881260</td>\n",
       "      <td>92.133</td>\n",
       "      <td>81.270</td>\n",
       "      <td>68.324098</td>\n",
       "      <td>A</td>\n",
       "      <td>Non-Polluted</td>\n",
       "    </tr>\n",
       "    <tr>\n",
       "      <th>869</th>\n",
       "      <td>탄천5</td>\n",
       "      <td>2021-05-06</td>\n",
       "      <td>18.6</td>\n",
       "      <td>8.1</td>\n",
       "      <td>1.9</td>\n",
       "      <td>7.0</td>\n",
       "      <td>9000</td>\n",
       "      <td>9.01</td>\n",
       "      <td>89.900111</td>\n",
       "      <td>91.633130</td>\n",
       "      <td>-28.233594</td>\n",
       "      <td>92.133</td>\n",
       "      <td>83.370</td>\n",
       "      <td>67.180527</td>\n",
       "      <td>A</td>\n",
       "      <td>Non-Polluted</td>\n",
       "    </tr>\n",
       "  </tbody>\n",
       "</table>\n",
       "<p>870 rows × 16 columns</p>\n",
       "</div>"
      ],
      "text/plain": [
       "     측정소명        년/월  수온(℃)  용존산소(㎎/L)  BOD(㎎/L)  수소이온농도  분원성대장균군수  \\\n",
       "0    안양천5 1997-01-20    5.0        6.6      23.8     8.0     80000   \n",
       "1    안양천5 1997-02-12    5.0        5.5      21.3     8.1    130000   \n",
       "2    안양천5 1997-03-17   10.0        3.0      16.5     7.7   1600000   \n",
       "3    안양천5 1997-04-15   18.0        2.0      16.8     7.7   1700000   \n",
       "4    안양천5 1997-05-12   19.0        1.2      14.1     7.7    500000   \n",
       "..    ...        ...    ...        ...       ...     ...       ...   \n",
       "865   탄천5 2021-01-12    6.7       13.0       3.2     6.8      6600   \n",
       "866   탄천5 2021-02-04    7.5       10.6       4.1     6.8     12000   \n",
       "867   탄천5 2021-03-04    9.9        9.7       4.1     7.2     32000   \n",
       "868   탄천5 2021-04-01   16.4        9.0       2.2     7.0      8600   \n",
       "869   탄천5 2021-05-06   18.6        8.1       1.9     7.0      9000   \n",
       "\n",
       "     Do(100 %saturation)  DO(% saturation)   Do_index   FC_index  pH_index  \\\n",
       "0                  12.37         53.354891  48.875222   2.000000    78.160   \n",
       "1                  12.37         44.462409  38.471019   2.000000    75.175   \n",
       "2                  10.92         27.472527  18.311868   2.000000    87.115   \n",
       "3                   9.18         21.786492  14.559085   2.000000    87.115   \n",
       "4                   9.01         13.318535   8.970233   2.000000    87.115   \n",
       "..                   ...               ...        ...        ...       ...   \n",
       "865                11.75        110.638298  94.744255 -25.829893    85.433   \n",
       "866                11.47         92.414996  94.575545   2.000000    85.433   \n",
       "867                10.92         88.827839  90.378571   2.000000    98.833   \n",
       "868                 9.56         94.142259  96.596444 -27.881260    92.133   \n",
       "869                 9.01         89.900111  91.633130 -28.233594    92.133   \n",
       "\n",
       "     BOD_index  WQI(수질평가지수) class_WQI       Remarks  \n",
       "0        9.626    39.533839         C      Polluted  \n",
       "1       12.701    36.149236         D      Polluted  \n",
       "2       18.605    34.541979         D      Polluted  \n",
       "3       18.236    33.297436         D      Polluted  \n",
       "4       21.557    32.295512         D      Polluted  \n",
       "..         ...          ...       ...           ...  \n",
       "865     74.270    64.723679         A  Non-Polluted  \n",
       "866     67.970    68.573059         A  Non-Polluted  \n",
       "867     67.970    71.023997         A  Non-Polluted  \n",
       "868     81.270    68.324098         A  Non-Polluted  \n",
       "869     83.370    67.180527         A  Non-Polluted  \n",
       "\n",
       "[870 rows x 16 columns]"
      ]
     },
     "execution_count": 37,
     "metadata": {},
     "output_type": "execute_result"
    }
   ],
   "source": [
    "# 위의 참조한 Table 기준을 참조하여 A,B는 non-polluted, C,D는 polluted로 class를 분류하여 로지스틱 회귀분석을 실시한다.\n",
    "\n",
    "total_df = pd.read_excel(r\"C:\\Users\\lab\\Desktop\\WINTER\\total_df.xlsx\")\n",
    "\n",
    "total_df['Remarks'] = ''\n",
    "for n in range(len(total_df)):\n",
    "    if total_df.loc[n,'class_WQI'] == 'A':\n",
    "        total_df.loc[n,'Remarks'] = 'Non-Polluted'\n",
    "    elif total_df.loc[n,'class_WQI'] == 'B':\n",
    "        total_df.loc[n,'Remarks'] = 'Non-Polluted'\n",
    "    elif total_df.loc[n,'class_WQI'] == 'C':\n",
    "        total_df.loc[n,'Remarks'] = 'Polluted'\n",
    "    else:\n",
    "        total_df.loc[n,'Remarks'] = 'Polluted'\n",
    "total_df"
   ]
  },
  {
   "cell_type": "code",
   "execution_count": 38,
   "id": "c6c42028",
   "metadata": {},
   "outputs": [
    {
     "data": {
      "text/html": [
       "<div>\n",
       "<style scoped>\n",
       "    .dataframe tbody tr th:only-of-type {\n",
       "        vertical-align: middle;\n",
       "    }\n",
       "\n",
       "    .dataframe tbody tr th {\n",
       "        vertical-align: top;\n",
       "    }\n",
       "\n",
       "    .dataframe thead th {\n",
       "        text-align: right;\n",
       "    }\n",
       "</style>\n",
       "<table border=\"1\" class=\"dataframe\">\n",
       "  <thead>\n",
       "    <tr style=\"text-align: right;\">\n",
       "      <th></th>\n",
       "      <th>년/월</th>\n",
       "      <th>수온(℃)</th>\n",
       "      <th>용존산소(㎎/L)</th>\n",
       "      <th>BOD(㎎/L)</th>\n",
       "      <th>수소이온농도</th>\n",
       "      <th>분원성대장균군수</th>\n",
       "      <th>Do(100 %saturation)</th>\n",
       "      <th>DO(% saturation)</th>\n",
       "      <th>Do_index</th>\n",
       "      <th>FC_index</th>\n",
       "      <th>pH_index</th>\n",
       "      <th>BOD_index</th>\n",
       "      <th>WQI(수질평가지수)</th>\n",
       "      <th>Remarks_Non-Polluted</th>\n",
       "      <th>Remarks_Polluted</th>\n",
       "    </tr>\n",
       "  </thead>\n",
       "  <tbody>\n",
       "    <tr>\n",
       "      <th>0</th>\n",
       "      <td>1997-01-20</td>\n",
       "      <td>5.0</td>\n",
       "      <td>6.6</td>\n",
       "      <td>23.8</td>\n",
       "      <td>8.0</td>\n",
       "      <td>80000</td>\n",
       "      <td>12.37</td>\n",
       "      <td>53.354891</td>\n",
       "      <td>48.875222</td>\n",
       "      <td>2.000000</td>\n",
       "      <td>78.160</td>\n",
       "      <td>9.626</td>\n",
       "      <td>39.533839</td>\n",
       "      <td>0</td>\n",
       "      <td>1</td>\n",
       "    </tr>\n",
       "    <tr>\n",
       "      <th>1</th>\n",
       "      <td>1997-02-12</td>\n",
       "      <td>5.0</td>\n",
       "      <td>5.5</td>\n",
       "      <td>21.3</td>\n",
       "      <td>8.1</td>\n",
       "      <td>130000</td>\n",
       "      <td>12.37</td>\n",
       "      <td>44.462409</td>\n",
       "      <td>38.471019</td>\n",
       "      <td>2.000000</td>\n",
       "      <td>75.175</td>\n",
       "      <td>12.701</td>\n",
       "      <td>36.149236</td>\n",
       "      <td>0</td>\n",
       "      <td>1</td>\n",
       "    </tr>\n",
       "    <tr>\n",
       "      <th>2</th>\n",
       "      <td>1997-03-17</td>\n",
       "      <td>10.0</td>\n",
       "      <td>3.0</td>\n",
       "      <td>16.5</td>\n",
       "      <td>7.7</td>\n",
       "      <td>1600000</td>\n",
       "      <td>10.92</td>\n",
       "      <td>27.472527</td>\n",
       "      <td>18.311868</td>\n",
       "      <td>2.000000</td>\n",
       "      <td>87.115</td>\n",
       "      <td>18.605</td>\n",
       "      <td>34.541979</td>\n",
       "      <td>0</td>\n",
       "      <td>1</td>\n",
       "    </tr>\n",
       "    <tr>\n",
       "      <th>3</th>\n",
       "      <td>1997-04-15</td>\n",
       "      <td>18.0</td>\n",
       "      <td>2.0</td>\n",
       "      <td>16.8</td>\n",
       "      <td>7.7</td>\n",
       "      <td>1700000</td>\n",
       "      <td>9.18</td>\n",
       "      <td>21.786492</td>\n",
       "      <td>14.559085</td>\n",
       "      <td>2.000000</td>\n",
       "      <td>87.115</td>\n",
       "      <td>18.236</td>\n",
       "      <td>33.297436</td>\n",
       "      <td>0</td>\n",
       "      <td>1</td>\n",
       "    </tr>\n",
       "    <tr>\n",
       "      <th>4</th>\n",
       "      <td>1997-05-12</td>\n",
       "      <td>19.0</td>\n",
       "      <td>1.2</td>\n",
       "      <td>14.1</td>\n",
       "      <td>7.7</td>\n",
       "      <td>500000</td>\n",
       "      <td>9.01</td>\n",
       "      <td>13.318535</td>\n",
       "      <td>8.970233</td>\n",
       "      <td>2.000000</td>\n",
       "      <td>87.115</td>\n",
       "      <td>21.557</td>\n",
       "      <td>32.295512</td>\n",
       "      <td>0</td>\n",
       "      <td>1</td>\n",
       "    </tr>\n",
       "    <tr>\n",
       "      <th>...</th>\n",
       "      <td>...</td>\n",
       "      <td>...</td>\n",
       "      <td>...</td>\n",
       "      <td>...</td>\n",
       "      <td>...</td>\n",
       "      <td>...</td>\n",
       "      <td>...</td>\n",
       "      <td>...</td>\n",
       "      <td>...</td>\n",
       "      <td>...</td>\n",
       "      <td>...</td>\n",
       "      <td>...</td>\n",
       "      <td>...</td>\n",
       "      <td>...</td>\n",
       "      <td>...</td>\n",
       "    </tr>\n",
       "    <tr>\n",
       "      <th>865</th>\n",
       "      <td>2021-01-12</td>\n",
       "      <td>6.7</td>\n",
       "      <td>13.0</td>\n",
       "      <td>3.2</td>\n",
       "      <td>6.8</td>\n",
       "      <td>6600</td>\n",
       "      <td>11.75</td>\n",
       "      <td>110.638298</td>\n",
       "      <td>94.744255</td>\n",
       "      <td>-25.829893</td>\n",
       "      <td>85.433</td>\n",
       "      <td>74.270</td>\n",
       "      <td>64.723679</td>\n",
       "      <td>1</td>\n",
       "      <td>0</td>\n",
       "    </tr>\n",
       "    <tr>\n",
       "      <th>866</th>\n",
       "      <td>2021-02-04</td>\n",
       "      <td>7.5</td>\n",
       "      <td>10.6</td>\n",
       "      <td>4.1</td>\n",
       "      <td>6.8</td>\n",
       "      <td>12000</td>\n",
       "      <td>11.47</td>\n",
       "      <td>92.414996</td>\n",
       "      <td>94.575545</td>\n",
       "      <td>2.000000</td>\n",
       "      <td>85.433</td>\n",
       "      <td>67.970</td>\n",
       "      <td>68.573059</td>\n",
       "      <td>1</td>\n",
       "      <td>0</td>\n",
       "    </tr>\n",
       "    <tr>\n",
       "      <th>867</th>\n",
       "      <td>2021-03-04</td>\n",
       "      <td>9.9</td>\n",
       "      <td>9.7</td>\n",
       "      <td>4.1</td>\n",
       "      <td>7.2</td>\n",
       "      <td>32000</td>\n",
       "      <td>10.92</td>\n",
       "      <td>88.827839</td>\n",
       "      <td>90.378571</td>\n",
       "      <td>2.000000</td>\n",
       "      <td>98.833</td>\n",
       "      <td>67.970</td>\n",
       "      <td>71.023997</td>\n",
       "      <td>1</td>\n",
       "      <td>0</td>\n",
       "    </tr>\n",
       "    <tr>\n",
       "      <th>868</th>\n",
       "      <td>2021-04-01</td>\n",
       "      <td>16.4</td>\n",
       "      <td>9.0</td>\n",
       "      <td>2.2</td>\n",
       "      <td>7.0</td>\n",
       "      <td>8600</td>\n",
       "      <td>9.56</td>\n",
       "      <td>94.142259</td>\n",
       "      <td>96.596444</td>\n",
       "      <td>-27.881260</td>\n",
       "      <td>92.133</td>\n",
       "      <td>81.270</td>\n",
       "      <td>68.324098</td>\n",
       "      <td>1</td>\n",
       "      <td>0</td>\n",
       "    </tr>\n",
       "    <tr>\n",
       "      <th>869</th>\n",
       "      <td>2021-05-06</td>\n",
       "      <td>18.6</td>\n",
       "      <td>8.1</td>\n",
       "      <td>1.9</td>\n",
       "      <td>7.0</td>\n",
       "      <td>9000</td>\n",
       "      <td>9.01</td>\n",
       "      <td>89.900111</td>\n",
       "      <td>91.633130</td>\n",
       "      <td>-28.233594</td>\n",
       "      <td>92.133</td>\n",
       "      <td>83.370</td>\n",
       "      <td>67.180527</td>\n",
       "      <td>1</td>\n",
       "      <td>0</td>\n",
       "    </tr>\n",
       "  </tbody>\n",
       "</table>\n",
       "<p>870 rows × 15 columns</p>\n",
       "</div>"
      ],
      "text/plain": [
       "           년/월  수온(℃)  용존산소(㎎/L)  BOD(㎎/L)  수소이온농도  분원성대장균군수  \\\n",
       "0   1997-01-20    5.0        6.6      23.8     8.0     80000   \n",
       "1   1997-02-12    5.0        5.5      21.3     8.1    130000   \n",
       "2   1997-03-17   10.0        3.0      16.5     7.7   1600000   \n",
       "3   1997-04-15   18.0        2.0      16.8     7.7   1700000   \n",
       "4   1997-05-12   19.0        1.2      14.1     7.7    500000   \n",
       "..         ...    ...        ...       ...     ...       ...   \n",
       "865 2021-01-12    6.7       13.0       3.2     6.8      6600   \n",
       "866 2021-02-04    7.5       10.6       4.1     6.8     12000   \n",
       "867 2021-03-04    9.9        9.7       4.1     7.2     32000   \n",
       "868 2021-04-01   16.4        9.0       2.2     7.0      8600   \n",
       "869 2021-05-06   18.6        8.1       1.9     7.0      9000   \n",
       "\n",
       "     Do(100 %saturation)  DO(% saturation)   Do_index   FC_index  pH_index  \\\n",
       "0                  12.37         53.354891  48.875222   2.000000    78.160   \n",
       "1                  12.37         44.462409  38.471019   2.000000    75.175   \n",
       "2                  10.92         27.472527  18.311868   2.000000    87.115   \n",
       "3                   9.18         21.786492  14.559085   2.000000    87.115   \n",
       "4                   9.01         13.318535   8.970233   2.000000    87.115   \n",
       "..                   ...               ...        ...        ...       ...   \n",
       "865                11.75        110.638298  94.744255 -25.829893    85.433   \n",
       "866                11.47         92.414996  94.575545   2.000000    85.433   \n",
       "867                10.92         88.827839  90.378571   2.000000    98.833   \n",
       "868                 9.56         94.142259  96.596444 -27.881260    92.133   \n",
       "869                 9.01         89.900111  91.633130 -28.233594    92.133   \n",
       "\n",
       "     BOD_index  WQI(수질평가지수)  Remarks_Non-Polluted  Remarks_Polluted  \n",
       "0        9.626    39.533839                     0                 1  \n",
       "1       12.701    36.149236                     0                 1  \n",
       "2       18.605    34.541979                     0                 1  \n",
       "3       18.236    33.297436                     0                 1  \n",
       "4       21.557    32.295512                     0                 1  \n",
       "..         ...          ...                   ...               ...  \n",
       "865     74.270    64.723679                     1                 0  \n",
       "866     67.970    68.573059                     1                 0  \n",
       "867     67.970    71.023997                     1                 0  \n",
       "868     81.270    68.324098                     1                 0  \n",
       "869     83.370    67.180527                     1                 0  \n",
       "\n",
       "[870 rows x 15 columns]"
      ]
     },
     "execution_count": 38,
     "metadata": {},
     "output_type": "execute_result"
    }
   ],
   "source": [
    "# 데이터프레임에 범주형 변수가 있으면 모두 dummy coding을 진행하기 때문에 Remarks를 제외한 범주형 변수열을 모두 삭제시켜주고 진행한다.\n",
    "\n",
    "total_df_copy = total_df.copy()\n",
    "total_df_copy = total_df_copy.drop(['측정소명','class_WQI'],axis=1)\n",
    "dummy = pd.get_dummies(total_df_copy[(total_df_copy['Remarks'] == 'Polluted') | (total_df_copy['Remarks'] == 'Non-Polluted')])\n",
    "dummy"
   ]
  },
  {
   "cell_type": "code",
   "execution_count": 39,
   "id": "1ea1926a",
   "metadata": {},
   "outputs": [
    {
     "name": "stdout",
     "output_type": "stream",
     "text": [
      "609 261\n",
      "[1 0 0 1 0 1 1 0 1 0 0 0 0 0 1 0 0 0 1 0 1 1 0 1 0 1 0 1 0 0 0 0 1 0 0 0 1\n",
      " 0 0 1 0 0 0 1 0 0 0 0 1 0 1 0 0 0 1 0 0 0 0 1 0 1 0 0 1 0 0 0 0 1 0 0 1 0\n",
      " 0 0 0 0 0 0 0 0 1 0 1 0 1 0 0 0 1 0 0 0 0 0 1 0 0 1 0 0 0 0 0 0 0 1 0 0 0\n",
      " 0 0 1 0 1 0 0 0 1 0 0 0 1 0 0 0 0 0 0 0 0 0 0 0 1 0 0 1 0 0 0 0 0 0 0 1 0\n",
      " 0 1 0 0 1 0 0 0 0 0 0 1 1 1 1 0 0 1 0 0 0 0 0 1 0 0 0 0 0 0 1 0 1 0 0 0 0\n",
      " 1 0 0 0 0 0 1 0 0 1 0 0 0 1 0 0 1 0 0 1 0 0 1 0 0 0 1 0 0 1 0 0 0 0 0 0 1\n",
      " 1 0 0 0 1 0 0 1 0 1 0 0 0 0 0 1 0 0 0 0 0 0 1 0 0 0 0 0 0 0 0 0 0 0 0 0 1\n",
      " 0 0]\n"
     ]
    }
   ],
   "source": [
    "# 독립변수는 WQI(수질평가지수), 종속변수(예측변수)를 Remarks_Polluted로 두고, test_size는 0.3으로 하여 로지스틱 회귀분석을 진행한다.\n",
    "\n",
    "from sklearn.model_selection import train_test_split\n",
    "from sklearn.linear_model import LogisticRegression\n",
    "\n",
    "X = dummy.iloc[:,12].values.reshape(-1,1)\n",
    "y = dummy.iloc[:,14].values\n",
    "\n",
    "X_train, X_test, y_train, y_test = train_test_split(X, y, test_size=0.3, random_state=924)\n",
    "print(len(X_train),len(X_test))\n",
    "\n",
    "lreg = LogisticRegression()\n",
    "lreg.fit(X_train, y_train)\n",
    "ypred = lreg.predict(X_test)\n",
    "print(y_test)"
   ]
  },
  {
   "cell_type": "markdown",
   "id": "cf54100e",
   "metadata": {},
   "source": [
    "#### 평가지표로 accuracy score를 사용하고 confusion matrix를 통해 잘못 분류된 부분 확인"
   ]
  },
  {
   "cell_type": "code",
   "execution_count": 40,
   "id": "ed2b198a",
   "metadata": {
    "scrolled": false
   },
   "outputs": [
    {
     "name": "stdout",
     "output_type": "stream",
     "text": [
      "[[195   1]\n",
      " [  0  65]]\n",
      "accuracy score : 0.9962\n"
     ]
    }
   ],
   "source": [
    "from sklearn.metrics import confusion_matrix, accuracy_score\n",
    "\n",
    "print(confusion_matrix(y_test,ypred))\n",
    "print(f\"accuracy score : {round(accuracy_score(y_test,ypred),4)}\")"
   ]
  },
  {
   "cell_type": "code",
   "execution_count": 41,
   "id": "c60dc756",
   "metadata": {
    "scrolled": true
   },
   "outputs": [
    {
     "data": {
      "text/plain": [
       "{'data': array([[1.799e+01, 1.038e+01, 1.228e+02, ..., 2.654e-01, 4.601e-01,\n",
       "         1.189e-01],\n",
       "        [2.057e+01, 1.777e+01, 1.329e+02, ..., 1.860e-01, 2.750e-01,\n",
       "         8.902e-02],\n",
       "        [1.969e+01, 2.125e+01, 1.300e+02, ..., 2.430e-01, 3.613e-01,\n",
       "         8.758e-02],\n",
       "        ...,\n",
       "        [1.660e+01, 2.808e+01, 1.083e+02, ..., 1.418e-01, 2.218e-01,\n",
       "         7.820e-02],\n",
       "        [2.060e+01, 2.933e+01, 1.401e+02, ..., 2.650e-01, 4.087e-01,\n",
       "         1.240e-01],\n",
       "        [7.760e+00, 2.454e+01, 4.792e+01, ..., 0.000e+00, 2.871e-01,\n",
       "         7.039e-02]]),\n",
       " 'target': array([0, 0, 0, 0, 0, 0, 0, 0, 0, 0, 0, 0, 0, 0, 0, 0, 0, 0, 0, 1, 1, 1,\n",
       "        0, 0, 0, 0, 0, 0, 0, 0, 0, 0, 0, 0, 0, 0, 0, 1, 0, 0, 0, 0, 0, 0,\n",
       "        0, 0, 1, 0, 1, 1, 1, 1, 1, 0, 0, 1, 0, 0, 1, 1, 1, 1, 0, 1, 0, 0,\n",
       "        1, 1, 1, 1, 0, 1, 0, 0, 1, 0, 1, 0, 0, 1, 1, 1, 0, 0, 1, 0, 0, 0,\n",
       "        1, 1, 1, 0, 1, 1, 0, 0, 1, 1, 1, 0, 0, 1, 1, 1, 1, 0, 1, 1, 0, 1,\n",
       "        1, 1, 1, 1, 1, 1, 1, 0, 0, 0, 1, 0, 0, 1, 1, 1, 0, 0, 1, 0, 1, 0,\n",
       "        0, 1, 0, 0, 1, 1, 0, 1, 1, 0, 1, 1, 1, 1, 0, 1, 1, 1, 1, 1, 1, 1,\n",
       "        1, 1, 0, 1, 1, 1, 1, 0, 0, 1, 0, 1, 1, 0, 0, 1, 1, 0, 0, 1, 1, 1,\n",
       "        1, 0, 1, 1, 0, 0, 0, 1, 0, 1, 0, 1, 1, 1, 0, 1, 1, 0, 0, 1, 0, 0,\n",
       "        0, 0, 1, 0, 0, 0, 1, 0, 1, 0, 1, 1, 0, 1, 0, 0, 0, 0, 1, 1, 0, 0,\n",
       "        1, 1, 1, 0, 1, 1, 1, 1, 1, 0, 0, 1, 1, 0, 1, 1, 0, 0, 1, 0, 1, 1,\n",
       "        1, 1, 0, 1, 1, 1, 1, 1, 0, 1, 0, 0, 0, 0, 0, 0, 0, 0, 0, 0, 0, 0,\n",
       "        0, 0, 1, 1, 1, 1, 1, 1, 0, 1, 0, 1, 1, 0, 1, 1, 0, 1, 0, 0, 1, 1,\n",
       "        1, 1, 1, 1, 1, 1, 1, 1, 1, 1, 1, 0, 1, 1, 0, 1, 0, 1, 1, 1, 1, 1,\n",
       "        1, 1, 1, 1, 1, 1, 1, 1, 1, 0, 1, 1, 1, 0, 1, 0, 1, 1, 1, 1, 0, 0,\n",
       "        0, 1, 1, 1, 1, 0, 1, 0, 1, 0, 1, 1, 1, 0, 1, 1, 1, 1, 1, 1, 1, 0,\n",
       "        0, 0, 1, 1, 1, 1, 1, 1, 1, 1, 1, 1, 1, 0, 0, 1, 0, 0, 0, 1, 0, 0,\n",
       "        1, 1, 1, 1, 1, 0, 1, 1, 1, 1, 1, 0, 1, 1, 1, 0, 1, 1, 0, 0, 1, 1,\n",
       "        1, 1, 1, 1, 0, 1, 1, 1, 1, 1, 1, 1, 0, 1, 1, 1, 1, 1, 0, 1, 1, 0,\n",
       "        1, 1, 1, 1, 1, 1, 1, 1, 1, 1, 1, 1, 0, 1, 0, 0, 1, 0, 1, 1, 1, 1,\n",
       "        1, 0, 1, 1, 0, 1, 0, 1, 1, 0, 1, 0, 1, 1, 1, 1, 1, 1, 1, 1, 0, 0,\n",
       "        1, 1, 1, 1, 1, 1, 0, 1, 1, 1, 1, 1, 1, 1, 1, 1, 1, 0, 1, 1, 1, 1,\n",
       "        1, 1, 1, 0, 1, 0, 1, 1, 0, 1, 1, 1, 1, 1, 0, 0, 1, 0, 1, 0, 1, 1,\n",
       "        1, 1, 1, 0, 1, 1, 0, 1, 0, 1, 0, 0, 1, 1, 1, 0, 1, 1, 1, 1, 1, 1,\n",
       "        1, 1, 1, 1, 1, 0, 1, 0, 0, 1, 1, 1, 1, 1, 1, 1, 1, 1, 1, 1, 1, 1,\n",
       "        1, 1, 1, 1, 1, 1, 1, 1, 1, 1, 1, 1, 0, 0, 0, 0, 0, 0, 1]),\n",
       " 'frame': None,\n",
       " 'target_names': array(['malignant', 'benign'], dtype='<U9'),\n",
       " 'DESCR': '.. _breast_cancer_dataset:\\n\\nBreast cancer wisconsin (diagnostic) dataset\\n--------------------------------------------\\n\\n**Data Set Characteristics:**\\n\\n    :Number of Instances: 569\\n\\n    :Number of Attributes: 30 numeric, predictive attributes and the class\\n\\n    :Attribute Information:\\n        - radius (mean of distances from center to points on the perimeter)\\n        - texture (standard deviation of gray-scale values)\\n        - perimeter\\n        - area\\n        - smoothness (local variation in radius lengths)\\n        - compactness (perimeter^2 / area - 1.0)\\n        - concavity (severity of concave portions of the contour)\\n        - concave points (number of concave portions of the contour)\\n        - symmetry\\n        - fractal dimension (\"coastline approximation\" - 1)\\n\\n        The mean, standard error, and \"worst\" or largest (mean of the three\\n        worst/largest values) of these features were computed for each image,\\n        resulting in 30 features.  For instance, field 0 is Mean Radius, field\\n        10 is Radius SE, field 20 is Worst Radius.\\n\\n        - class:\\n                - WDBC-Malignant\\n                - WDBC-Benign\\n\\n    :Summary Statistics:\\n\\n    ===================================== ====== ======\\n                                           Min    Max\\n    ===================================== ====== ======\\n    radius (mean):                        6.981  28.11\\n    texture (mean):                       9.71   39.28\\n    perimeter (mean):                     43.79  188.5\\n    area (mean):                          143.5  2501.0\\n    smoothness (mean):                    0.053  0.163\\n    compactness (mean):                   0.019  0.345\\n    concavity (mean):                     0.0    0.427\\n    concave points (mean):                0.0    0.201\\n    symmetry (mean):                      0.106  0.304\\n    fractal dimension (mean):             0.05   0.097\\n    radius (standard error):              0.112  2.873\\n    texture (standard error):             0.36   4.885\\n    perimeter (standard error):           0.757  21.98\\n    area (standard error):                6.802  542.2\\n    smoothness (standard error):          0.002  0.031\\n    compactness (standard error):         0.002  0.135\\n    concavity (standard error):           0.0    0.396\\n    concave points (standard error):      0.0    0.053\\n    symmetry (standard error):            0.008  0.079\\n    fractal dimension (standard error):   0.001  0.03\\n    radius (worst):                       7.93   36.04\\n    texture (worst):                      12.02  49.54\\n    perimeter (worst):                    50.41  251.2\\n    area (worst):                         185.2  4254.0\\n    smoothness (worst):                   0.071  0.223\\n    compactness (worst):                  0.027  1.058\\n    concavity (worst):                    0.0    1.252\\n    concave points (worst):               0.0    0.291\\n    symmetry (worst):                     0.156  0.664\\n    fractal dimension (worst):            0.055  0.208\\n    ===================================== ====== ======\\n\\n    :Missing Attribute Values: None\\n\\n    :Class Distribution: 212 - Malignant, 357 - Benign\\n\\n    :Creator:  Dr. William H. Wolberg, W. Nick Street, Olvi L. Mangasarian\\n\\n    :Donor: Nick Street\\n\\n    :Date: November, 1995\\n\\nThis is a copy of UCI ML Breast Cancer Wisconsin (Diagnostic) datasets.\\nhttps://goo.gl/U2Uwz2\\n\\nFeatures are computed from a digitized image of a fine needle\\naspirate (FNA) of a breast mass.  They describe\\ncharacteristics of the cell nuclei present in the image.\\n\\nSeparating plane described above was obtained using\\nMultisurface Method-Tree (MSM-T) [K. P. Bennett, \"Decision Tree\\nConstruction Via Linear Programming.\" Proceedings of the 4th\\nMidwest Artificial Intelligence and Cognitive Science Society,\\npp. 97-101, 1992], a classification method which uses linear\\nprogramming to construct a decision tree.  Relevant features\\nwere selected using an exhaustive search in the space of 1-4\\nfeatures and 1-3 separating planes.\\n\\nThe actual linear program used to obtain the separating plane\\nin the 3-dimensional space is that described in:\\n[K. P. Bennett and O. L. Mangasarian: \"Robust Linear\\nProgramming Discrimination of Two Linearly Inseparable Sets\",\\nOptimization Methods and Software 1, 1992, 23-34].\\n\\nThis database is also available through the UW CS ftp server:\\n\\nftp ftp.cs.wisc.edu\\ncd math-prog/cpo-dataset/machine-learn/WDBC/\\n\\n.. topic:: References\\n\\n   - W.N. Street, W.H. Wolberg and O.L. Mangasarian. Nuclear feature extraction \\n     for breast tumor diagnosis. IS&T/SPIE 1993 International Symposium on \\n     Electronic Imaging: Science and Technology, volume 1905, pages 861-870,\\n     San Jose, CA, 1993.\\n   - O.L. Mangasarian, W.N. Street and W.H. Wolberg. Breast cancer diagnosis and \\n     prognosis via linear programming. Operations Research, 43(4), pages 570-577, \\n     July-August 1995.\\n   - W.H. Wolberg, W.N. Street, and O.L. Mangasarian. Machine learning techniques\\n     to diagnose breast cancer from fine-needle aspirates. Cancer Letters 77 (1994) \\n     163-171.',\n",
       " 'feature_names': array(['mean radius', 'mean texture', 'mean perimeter', 'mean area',\n",
       "        'mean smoothness', 'mean compactness', 'mean concavity',\n",
       "        'mean concave points', 'mean symmetry', 'mean fractal dimension',\n",
       "        'radius error', 'texture error', 'perimeter error', 'area error',\n",
       "        'smoothness error', 'compactness error', 'concavity error',\n",
       "        'concave points error', 'symmetry error',\n",
       "        'fractal dimension error', 'worst radius', 'worst texture',\n",
       "        'worst perimeter', 'worst area', 'worst smoothness',\n",
       "        'worst compactness', 'worst concavity', 'worst concave points',\n",
       "        'worst symmetry', 'worst fractal dimension'], dtype='<U23'),\n",
       " 'filename': 'C:\\\\Users\\\\lab\\\\anaconda3\\\\lib\\\\site-packages\\\\sklearn\\\\datasets\\\\data\\\\breast_cancer.csv'}"
      ]
     },
     "execution_count": 41,
     "metadata": {},
     "output_type": "execute_result"
    }
   ],
   "source": [
    "from sklearn.datasets import load_breast_cancer\n",
    "\n",
    "breast = load_breast_cancer()\n",
    "breast"
   ]
  },
  {
   "cell_type": "code",
   "execution_count": 11,
   "id": "2d493653",
   "metadata": {},
   "outputs": [
    {
     "name": "stdout",
     "output_type": "stream",
     "text": [
      "(569, 30)\n",
      "(569,)\n"
     ]
    }
   ],
   "source": [
    "breast_x = breast.data\n",
    "breast_y = breast.target\n",
    "\n",
    "print(breast_x.shape)\n",
    "print(breast_y.shape)"
   ]
  },
  {
   "cell_type": "code",
   "execution_count": 12,
   "id": "f0a502bb",
   "metadata": {},
   "outputs": [
    {
     "name": "stderr",
     "output_type": "stream",
     "text": [
      "C:\\Users\\lab\\anaconda3\\lib\\site-packages\\sklearn\\linear_model\\_logistic.py:763: ConvergenceWarning: lbfgs failed to converge (status=1):\n",
      "STOP: TOTAL NO. of ITERATIONS REACHED LIMIT.\n",
      "\n",
      "Increase the number of iterations (max_iter) or scale the data as shown in:\n",
      "    https://scikit-learn.org/stable/modules/preprocessing.html\n",
      "Please also refer to the documentation for alternative solver options:\n",
      "    https://scikit-learn.org/stable/modules/linear_model.html#logistic-regression\n",
      "  n_iter_i = _check_optimize_result(\n"
     ]
    },
    {
     "data": {
      "text/plain": [
       "LogisticRegression()"
      ]
     },
     "execution_count": 12,
     "metadata": {},
     "output_type": "execute_result"
    }
   ],
   "source": [
    "model = LogisticRegression()\n",
    "model.fit(X=breast_x, y=breast_y)"
   ]
  },
  {
   "cell_type": "markdown",
   "id": "ddebd9ee",
   "metadata": {},
   "source": [
    "## Random Forest"
   ]
  },
  {
   "cell_type": "markdown",
   "id": "efe9b77e",
   "metadata": {},
   "source": [
    "### classifier"
   ]
  },
  {
   "cell_type": "markdown",
   "id": "c998fe45",
   "metadata": {},
   "source": [
    "#### 필요한 module import"
   ]
  },
  {
   "cell_type": "code",
   "execution_count": 101,
   "id": "e1ac0181",
   "metadata": {},
   "outputs": [],
   "source": [
    "import numpy as np\n",
    "import matplotlib.pyplot as plt\n",
    "import pandas as pd\n",
    "from sklearn.datasets import load_iris\n",
    "from sklearn.model_selection import train_test_split\n",
    "from sklearn.ensemble import RandomForestClassifier\n",
    "from sklearn.preprocessing import StandardScaler"
   ]
  },
  {
   "cell_type": "markdown",
   "id": "f01c548d",
   "metadata": {},
   "source": [
    "#### data 불러오기"
   ]
  },
  {
   "cell_type": "code",
   "execution_count": 102,
   "id": "1c111e0e",
   "metadata": {},
   "outputs": [
    {
     "data": {
      "text/plain": [
       "{'data': array([[5.1, 3.5, 1.4, 0.2],\n",
       "        [4.9, 3. , 1.4, 0.2],\n",
       "        [4.7, 3.2, 1.3, 0.2],\n",
       "        [4.6, 3.1, 1.5, 0.2],\n",
       "        [5. , 3.6, 1.4, 0.2],\n",
       "        [5.4, 3.9, 1.7, 0.4],\n",
       "        [4.6, 3.4, 1.4, 0.3],\n",
       "        [5. , 3.4, 1.5, 0.2],\n",
       "        [4.4, 2.9, 1.4, 0.2],\n",
       "        [4.9, 3.1, 1.5, 0.1],\n",
       "        [5.4, 3.7, 1.5, 0.2],\n",
       "        [4.8, 3.4, 1.6, 0.2],\n",
       "        [4.8, 3. , 1.4, 0.1],\n",
       "        [4.3, 3. , 1.1, 0.1],\n",
       "        [5.8, 4. , 1.2, 0.2],\n",
       "        [5.7, 4.4, 1.5, 0.4],\n",
       "        [5.4, 3.9, 1.3, 0.4],\n",
       "        [5.1, 3.5, 1.4, 0.3],\n",
       "        [5.7, 3.8, 1.7, 0.3],\n",
       "        [5.1, 3.8, 1.5, 0.3],\n",
       "        [5.4, 3.4, 1.7, 0.2],\n",
       "        [5.1, 3.7, 1.5, 0.4],\n",
       "        [4.6, 3.6, 1. , 0.2],\n",
       "        [5.1, 3.3, 1.7, 0.5],\n",
       "        [4.8, 3.4, 1.9, 0.2],\n",
       "        [5. , 3. , 1.6, 0.2],\n",
       "        [5. , 3.4, 1.6, 0.4],\n",
       "        [5.2, 3.5, 1.5, 0.2],\n",
       "        [5.2, 3.4, 1.4, 0.2],\n",
       "        [4.7, 3.2, 1.6, 0.2],\n",
       "        [4.8, 3.1, 1.6, 0.2],\n",
       "        [5.4, 3.4, 1.5, 0.4],\n",
       "        [5.2, 4.1, 1.5, 0.1],\n",
       "        [5.5, 4.2, 1.4, 0.2],\n",
       "        [4.9, 3.1, 1.5, 0.2],\n",
       "        [5. , 3.2, 1.2, 0.2],\n",
       "        [5.5, 3.5, 1.3, 0.2],\n",
       "        [4.9, 3.6, 1.4, 0.1],\n",
       "        [4.4, 3. , 1.3, 0.2],\n",
       "        [5.1, 3.4, 1.5, 0.2],\n",
       "        [5. , 3.5, 1.3, 0.3],\n",
       "        [4.5, 2.3, 1.3, 0.3],\n",
       "        [4.4, 3.2, 1.3, 0.2],\n",
       "        [5. , 3.5, 1.6, 0.6],\n",
       "        [5.1, 3.8, 1.9, 0.4],\n",
       "        [4.8, 3. , 1.4, 0.3],\n",
       "        [5.1, 3.8, 1.6, 0.2],\n",
       "        [4.6, 3.2, 1.4, 0.2],\n",
       "        [5.3, 3.7, 1.5, 0.2],\n",
       "        [5. , 3.3, 1.4, 0.2],\n",
       "        [7. , 3.2, 4.7, 1.4],\n",
       "        [6.4, 3.2, 4.5, 1.5],\n",
       "        [6.9, 3.1, 4.9, 1.5],\n",
       "        [5.5, 2.3, 4. , 1.3],\n",
       "        [6.5, 2.8, 4.6, 1.5],\n",
       "        [5.7, 2.8, 4.5, 1.3],\n",
       "        [6.3, 3.3, 4.7, 1.6],\n",
       "        [4.9, 2.4, 3.3, 1. ],\n",
       "        [6.6, 2.9, 4.6, 1.3],\n",
       "        [5.2, 2.7, 3.9, 1.4],\n",
       "        [5. , 2. , 3.5, 1. ],\n",
       "        [5.9, 3. , 4.2, 1.5],\n",
       "        [6. , 2.2, 4. , 1. ],\n",
       "        [6.1, 2.9, 4.7, 1.4],\n",
       "        [5.6, 2.9, 3.6, 1.3],\n",
       "        [6.7, 3.1, 4.4, 1.4],\n",
       "        [5.6, 3. , 4.5, 1.5],\n",
       "        [5.8, 2.7, 4.1, 1. ],\n",
       "        [6.2, 2.2, 4.5, 1.5],\n",
       "        [5.6, 2.5, 3.9, 1.1],\n",
       "        [5.9, 3.2, 4.8, 1.8],\n",
       "        [6.1, 2.8, 4. , 1.3],\n",
       "        [6.3, 2.5, 4.9, 1.5],\n",
       "        [6.1, 2.8, 4.7, 1.2],\n",
       "        [6.4, 2.9, 4.3, 1.3],\n",
       "        [6.6, 3. , 4.4, 1.4],\n",
       "        [6.8, 2.8, 4.8, 1.4],\n",
       "        [6.7, 3. , 5. , 1.7],\n",
       "        [6. , 2.9, 4.5, 1.5],\n",
       "        [5.7, 2.6, 3.5, 1. ],\n",
       "        [5.5, 2.4, 3.8, 1.1],\n",
       "        [5.5, 2.4, 3.7, 1. ],\n",
       "        [5.8, 2.7, 3.9, 1.2],\n",
       "        [6. , 2.7, 5.1, 1.6],\n",
       "        [5.4, 3. , 4.5, 1.5],\n",
       "        [6. , 3.4, 4.5, 1.6],\n",
       "        [6.7, 3.1, 4.7, 1.5],\n",
       "        [6.3, 2.3, 4.4, 1.3],\n",
       "        [5.6, 3. , 4.1, 1.3],\n",
       "        [5.5, 2.5, 4. , 1.3],\n",
       "        [5.5, 2.6, 4.4, 1.2],\n",
       "        [6.1, 3. , 4.6, 1.4],\n",
       "        [5.8, 2.6, 4. , 1.2],\n",
       "        [5. , 2.3, 3.3, 1. ],\n",
       "        [5.6, 2.7, 4.2, 1.3],\n",
       "        [5.7, 3. , 4.2, 1.2],\n",
       "        [5.7, 2.9, 4.2, 1.3],\n",
       "        [6.2, 2.9, 4.3, 1.3],\n",
       "        [5.1, 2.5, 3. , 1.1],\n",
       "        [5.7, 2.8, 4.1, 1.3],\n",
       "        [6.3, 3.3, 6. , 2.5],\n",
       "        [5.8, 2.7, 5.1, 1.9],\n",
       "        [7.1, 3. , 5.9, 2.1],\n",
       "        [6.3, 2.9, 5.6, 1.8],\n",
       "        [6.5, 3. , 5.8, 2.2],\n",
       "        [7.6, 3. , 6.6, 2.1],\n",
       "        [4.9, 2.5, 4.5, 1.7],\n",
       "        [7.3, 2.9, 6.3, 1.8],\n",
       "        [6.7, 2.5, 5.8, 1.8],\n",
       "        [7.2, 3.6, 6.1, 2.5],\n",
       "        [6.5, 3.2, 5.1, 2. ],\n",
       "        [6.4, 2.7, 5.3, 1.9],\n",
       "        [6.8, 3. , 5.5, 2.1],\n",
       "        [5.7, 2.5, 5. , 2. ],\n",
       "        [5.8, 2.8, 5.1, 2.4],\n",
       "        [6.4, 3.2, 5.3, 2.3],\n",
       "        [6.5, 3. , 5.5, 1.8],\n",
       "        [7.7, 3.8, 6.7, 2.2],\n",
       "        [7.7, 2.6, 6.9, 2.3],\n",
       "        [6. , 2.2, 5. , 1.5],\n",
       "        [6.9, 3.2, 5.7, 2.3],\n",
       "        [5.6, 2.8, 4.9, 2. ],\n",
       "        [7.7, 2.8, 6.7, 2. ],\n",
       "        [6.3, 2.7, 4.9, 1.8],\n",
       "        [6.7, 3.3, 5.7, 2.1],\n",
       "        [7.2, 3.2, 6. , 1.8],\n",
       "        [6.2, 2.8, 4.8, 1.8],\n",
       "        [6.1, 3. , 4.9, 1.8],\n",
       "        [6.4, 2.8, 5.6, 2.1],\n",
       "        [7.2, 3. , 5.8, 1.6],\n",
       "        [7.4, 2.8, 6.1, 1.9],\n",
       "        [7.9, 3.8, 6.4, 2. ],\n",
       "        [6.4, 2.8, 5.6, 2.2],\n",
       "        [6.3, 2.8, 5.1, 1.5],\n",
       "        [6.1, 2.6, 5.6, 1.4],\n",
       "        [7.7, 3. , 6.1, 2.3],\n",
       "        [6.3, 3.4, 5.6, 2.4],\n",
       "        [6.4, 3.1, 5.5, 1.8],\n",
       "        [6. , 3. , 4.8, 1.8],\n",
       "        [6.9, 3.1, 5.4, 2.1],\n",
       "        [6.7, 3.1, 5.6, 2.4],\n",
       "        [6.9, 3.1, 5.1, 2.3],\n",
       "        [5.8, 2.7, 5.1, 1.9],\n",
       "        [6.8, 3.2, 5.9, 2.3],\n",
       "        [6.7, 3.3, 5.7, 2.5],\n",
       "        [6.7, 3. , 5.2, 2.3],\n",
       "        [6.3, 2.5, 5. , 1.9],\n",
       "        [6.5, 3. , 5.2, 2. ],\n",
       "        [6.2, 3.4, 5.4, 2.3],\n",
       "        [5.9, 3. , 5.1, 1.8]]),\n",
       " 'target': array([0, 0, 0, 0, 0, 0, 0, 0, 0, 0, 0, 0, 0, 0, 0, 0, 0, 0, 0, 0, 0, 0,\n",
       "        0, 0, 0, 0, 0, 0, 0, 0, 0, 0, 0, 0, 0, 0, 0, 0, 0, 0, 0, 0, 0, 0,\n",
       "        0, 0, 0, 0, 0, 0, 1, 1, 1, 1, 1, 1, 1, 1, 1, 1, 1, 1, 1, 1, 1, 1,\n",
       "        1, 1, 1, 1, 1, 1, 1, 1, 1, 1, 1, 1, 1, 1, 1, 1, 1, 1, 1, 1, 1, 1,\n",
       "        1, 1, 1, 1, 1, 1, 1, 1, 1, 1, 1, 1, 2, 2, 2, 2, 2, 2, 2, 2, 2, 2,\n",
       "        2, 2, 2, 2, 2, 2, 2, 2, 2, 2, 2, 2, 2, 2, 2, 2, 2, 2, 2, 2, 2, 2,\n",
       "        2, 2, 2, 2, 2, 2, 2, 2, 2, 2, 2, 2, 2, 2, 2, 2, 2, 2]),\n",
       " 'frame': None,\n",
       " 'target_names': array(['setosa', 'versicolor', 'virginica'], dtype='<U10'),\n",
       " 'DESCR': '.. _iris_dataset:\\n\\nIris plants dataset\\n--------------------\\n\\n**Data Set Characteristics:**\\n\\n    :Number of Instances: 150 (50 in each of three classes)\\n    :Number of Attributes: 4 numeric, predictive attributes and the class\\n    :Attribute Information:\\n        - sepal length in cm\\n        - sepal width in cm\\n        - petal length in cm\\n        - petal width in cm\\n        - class:\\n                - Iris-Setosa\\n                - Iris-Versicolour\\n                - Iris-Virginica\\n                \\n    :Summary Statistics:\\n\\n    ============== ==== ==== ======= ===== ====================\\n                    Min  Max   Mean    SD   Class Correlation\\n    ============== ==== ==== ======= ===== ====================\\n    sepal length:   4.3  7.9   5.84   0.83    0.7826\\n    sepal width:    2.0  4.4   3.05   0.43   -0.4194\\n    petal length:   1.0  6.9   3.76   1.76    0.9490  (high!)\\n    petal width:    0.1  2.5   1.20   0.76    0.9565  (high!)\\n    ============== ==== ==== ======= ===== ====================\\n\\n    :Missing Attribute Values: None\\n    :Class Distribution: 33.3% for each of 3 classes.\\n    :Creator: R.A. Fisher\\n    :Donor: Michael Marshall (MARSHALL%PLU@io.arc.nasa.gov)\\n    :Date: July, 1988\\n\\nThe famous Iris database, first used by Sir R.A. Fisher. The dataset is taken\\nfrom Fisher\\'s paper. Note that it\\'s the same as in R, but not as in the UCI\\nMachine Learning Repository, which has two wrong data points.\\n\\nThis is perhaps the best known database to be found in the\\npattern recognition literature.  Fisher\\'s paper is a classic in the field and\\nis referenced frequently to this day.  (See Duda & Hart, for example.)  The\\ndata set contains 3 classes of 50 instances each, where each class refers to a\\ntype of iris plant.  One class is linearly separable from the other 2; the\\nlatter are NOT linearly separable from each other.\\n\\n.. topic:: References\\n\\n   - Fisher, R.A. \"The use of multiple measurements in taxonomic problems\"\\n     Annual Eugenics, 7, Part II, 179-188 (1936); also in \"Contributions to\\n     Mathematical Statistics\" (John Wiley, NY, 1950).\\n   - Duda, R.O., & Hart, P.E. (1973) Pattern Classification and Scene Analysis.\\n     (Q327.D83) John Wiley & Sons.  ISBN 0-471-22361-1.  See page 218.\\n   - Dasarathy, B.V. (1980) \"Nosing Around the Neighborhood: A New System\\n     Structure and Classification Rule for Recognition in Partially Exposed\\n     Environments\".  IEEE Transactions on Pattern Analysis and Machine\\n     Intelligence, Vol. PAMI-2, No. 1, 67-71.\\n   - Gates, G.W. (1972) \"The Reduced Nearest Neighbor Rule\".  IEEE Transactions\\n     on Information Theory, May 1972, 431-433.\\n   - See also: 1988 MLC Proceedings, 54-64.  Cheeseman et al\"s AUTOCLASS II\\n     conceptual clustering system finds 3 classes in the data.\\n   - Many, many more ...',\n",
       " 'feature_names': ['sepal length (cm)',\n",
       "  'sepal width (cm)',\n",
       "  'petal length (cm)',\n",
       "  'petal width (cm)'],\n",
       " 'filename': 'C:\\\\Users\\\\lab\\\\anaconda3\\\\lib\\\\site-packages\\\\sklearn\\\\datasets\\\\data\\\\iris.csv'}"
      ]
     },
     "execution_count": 102,
     "metadata": {},
     "output_type": "execute_result"
    }
   ],
   "source": [
    "iris = load_iris()\n",
    "iris"
   ]
  },
  {
   "cell_type": "markdown",
   "id": "0e008a1c",
   "metadata": {},
   "source": [
    "#### X를 예측에 이용할 정보, y를 예측할 타겟변수로 하여 나누기"
   ]
  },
  {
   "cell_type": "code",
   "execution_count": 103,
   "id": "c495bf43",
   "metadata": {},
   "outputs": [],
   "source": [
    "X = iris.data\n",
    "y = iris.target"
   ]
  },
  {
   "cell_type": "markdown",
   "id": "6e2d9037",
   "metadata": {},
   "source": [
    "#### 학습 데이터(train set)와 테스트 데이터(test set)로 나누기"
   ]
  },
  {
   "cell_type": "code",
   "execution_count": 104,
   "id": "fa973d50",
   "metadata": {},
   "outputs": [],
   "source": [
    "X_train, X_test, y_train, y_test = train_test_split(X, y, test_size = 0.3, random_state=924)"
   ]
  },
  {
   "cell_type": "markdown",
   "id": "2ee153e4",
   "metadata": {},
   "source": [
    "#### Random forest 모델의 parameter를 임의로 설정하고, train set으로 학습시키고 test set으로 예측력 확인"
   ]
  },
  {
   "cell_type": "code",
   "execution_count": 105,
   "id": "28a39f9f",
   "metadata": {},
   "outputs": [],
   "source": [
    "rf = RandomForestClassifier(n_estimators = 20, n_jobs = -1, random_state=924)\n",
    "rf.fit(X,y)\n",
    "y_pred = rf.predict(X_test)"
   ]
  },
  {
   "cell_type": "code",
   "execution_count": 106,
   "id": "2a457b05",
   "metadata": {},
   "outputs": [
    {
     "data": {
      "text/plain": [
       "array([0, 0, 1, 0, 2, 2, 1, 0, 1, 1, 2, 0, 2, 1, 0, 0, 0, 1, 2, 2, 0, 2,\n",
       "       0, 0, 1, 0, 0, 0, 2, 1, 1, 1, 2, 0, 2, 1, 2, 1, 0, 2, 0, 1, 1, 0,\n",
       "       0])"
      ]
     },
     "execution_count": 106,
     "metadata": {},
     "output_type": "execute_result"
    }
   ],
   "source": [
    "y_pred"
   ]
  },
  {
   "cell_type": "markdown",
   "id": "c973da30",
   "metadata": {},
   "source": [
    "#### accuracy_score로 정확도 확인"
   ]
  },
  {
   "cell_type": "code",
   "execution_count": 107,
   "id": "4702e3ae",
   "metadata": {},
   "outputs": [
    {
     "data": {
      "text/plain": [
       "0.9777777777777777"
      ]
     },
     "execution_count": 107,
     "metadata": {},
     "output_type": "execute_result"
    }
   ],
   "source": [
    "from sklearn.metrics import accuracy_score, confusion_matrix\n",
    "\n",
    "accuracy_score(y_test,y_pred)"
   ]
  },
  {
   "cell_type": "markdown",
   "id": "ace2db27",
   "metadata": {},
   "source": [
    "#### 또는 score함수로 확인"
   ]
  },
  {
   "cell_type": "code",
   "execution_count": 108,
   "id": "1beb5d53",
   "metadata": {},
   "outputs": [
    {
     "name": "stdout",
     "output_type": "stream",
     "text": [
      "1.0\n",
      "0.9555555555555556\n"
     ]
    }
   ],
   "source": [
    "print(rf_model.score(X_train,y_train))\n",
    "print(rf_model.score(X_test,y_test))"
   ]
  },
  {
   "cell_type": "markdown",
   "id": "b56e886f",
   "metadata": {},
   "source": [
    "#### confusion matrix로 잘못 분류된 부분 찾기"
   ]
  },
  {
   "cell_type": "code",
   "execution_count": 109,
   "id": "395838fb",
   "metadata": {},
   "outputs": [
    {
     "data": {
      "text/plain": [
       "array([[19,  0,  0],\n",
       "       [ 0, 13,  0],\n",
       "       [ 0,  1, 12]], dtype=int64)"
      ]
     },
     "execution_count": 109,
     "metadata": {},
     "output_type": "execute_result"
    }
   ],
   "source": [
    "confusion_matrix(y_test,y_pred)"
   ]
  },
  {
   "cell_type": "markdown",
   "id": "836fa07b",
   "metadata": {},
   "source": [
    "## 추가"
   ]
  },
  {
   "cell_type": "markdown",
   "id": "89795d15",
   "metadata": {},
   "source": [
    "#### Random forest classification의 hyper parameter tuning"
   ]
  },
  {
   "cell_type": "code",
   "execution_count": 110,
   "id": "626f219e",
   "metadata": {
    "scrolled": true
   },
   "outputs": [
    {
     "data": {
      "text/plain": [
       "GridSearchCV(cv=5,\n",
       "             estimator=RandomForestClassifier(n_estimators=20, n_jobs=-1,\n",
       "                                              random_state=924),\n",
       "             param_grid={'criterion': ['gini', 'entropy'],\n",
       "                         'max_depth': [None, 5, 10, 20],\n",
       "                         'min_samples_leaf': [1, 2, 3, 4, 5],\n",
       "                         'n_estimators': [10, 25, 50, 100]})"
      ]
     },
     "execution_count": 110,
     "metadata": {},
     "output_type": "execute_result"
    }
   ],
   "source": [
    "from sklearn.model_selection import GridSearchCV\n",
    "\n",
    "# defining parameter range\n",
    "param_grid = {\n",
    "             'criterion' : ['gini','entropy'],\n",
    "              'n_estimators': [10, 25, 50, 100], \n",
    "               'max_depth': [None, 5, 10, 20],\n",
    "               'min_samples_leaf': [1, 2, 3, 4, 5]}\n",
    "\n",
    "grid = GridSearchCV(rf , param_grid, refit = True, cv = 5)\n",
    "\n",
    "# fitting the model for grid search\n",
    "grid.fit(X_train, y_train)"
   ]
  },
  {
   "cell_type": "code",
   "execution_count": 111,
   "id": "0022cef8",
   "metadata": {},
   "outputs": [
    {
     "name": "stdout",
     "output_type": "stream",
     "text": [
      "{'criterion': 'gini', 'max_depth': None, 'min_samples_leaf': 1, 'n_estimators': 100}\n",
      "RandomForestClassifier(n_jobs=-1, random_state=924)\n"
     ]
    }
   ],
   "source": [
    "print(grid.best_params_)\n",
    "print(grid.best_estimator_)"
   ]
  },
  {
   "cell_type": "code",
   "execution_count": 112,
   "id": "dbbe39eb",
   "metadata": {},
   "outputs": [
    {
     "data": {
      "text/plain": [
       "array([0, 0, 1, 0, 2, 2, 1, 0, 1, 1, 2, 0, 2, 1, 0, 0, 0, 1, 2, 2, 0, 2,\n",
       "       0, 0, 2, 0, 0, 0, 2, 1, 1, 1, 2, 0, 2, 1, 2, 1, 0, 2, 0, 1, 1, 0,\n",
       "       0])"
      ]
     },
     "execution_count": 112,
     "metadata": {},
     "output_type": "execute_result"
    }
   ],
   "source": [
    "rf_model = grid.best_estimator_\n",
    "\n",
    "y_pred_rf = rf_model.predict(X_test)\n",
    "y_pred_rf"
   ]
  },
  {
   "cell_type": "code",
   "execution_count": 113,
   "id": "af98e1d7",
   "metadata": {
    "scrolled": true
   },
   "outputs": [
    {
     "name": "stdout",
     "output_type": "stream",
     "text": [
      "0.9555555555555556\n",
      "[[19  0  0]\n",
      " [ 0 12  1]\n",
      " [ 0  1 12]]\n"
     ]
    }
   ],
   "source": [
    "from sklearn.metrics import accuracy_score, confusion_matrix\n",
    "\n",
    "print(accuracy_score(y_pred_rf,y_test))\n",
    "print(confusion_matrix(y_pred_rf,y_test))"
   ]
  },
  {
   "cell_type": "code",
   "execution_count": 114,
   "id": "26cc4cbb",
   "metadata": {
    "scrolled": true
   },
   "outputs": [
    {
     "name": "stdout",
     "output_type": "stream",
     "text": [
      "              precision    recall  f1-score   support\n",
      "\n",
      "           0       1.00      1.00      1.00        19\n",
      "           1       0.92      0.92      0.92        13\n",
      "           2       0.92      0.92      0.92        13\n",
      "\n",
      "    accuracy                           0.96        45\n",
      "   macro avg       0.95      0.95      0.95        45\n",
      "weighted avg       0.96      0.96      0.96        45\n",
      "\n"
     ]
    }
   ],
   "source": [
    "from sklearn.metrics import classification_report\n",
    "\n",
    "print(classification_report(y_pred_rf,y_test))"
   ]
  },
  {
   "cell_type": "code",
   "execution_count": null,
   "id": "34fa8c99",
   "metadata": {},
   "outputs": [],
   "source": [
    "'''\n",
    "왜 GridSearch를 썼는데 성능이 더 저하되었는가?\n",
    "https://pretagteam.com/question/why-gridsearchcv-model-results-are-different-than-the-model-i-manually-tuned\n",
    "참조.\n",
    "\n",
    ">> 각 method마다 score metric으로 사용되는 것이 다르다.\n",
    "예를 들어 DecisionTreeClassifier는 accuracy를 score metric으로 사용하지만 GridSearch는 roc_auc를 score metric으로 사용한다.\n",
    "'''"
   ]
  },
  {
   "cell_type": "markdown",
   "id": "92911b16",
   "metadata": {},
   "source": [
    "#### 예측의 활용할 변수가 2개일 때 visualization"
   ]
  },
  {
   "cell_type": "code",
   "execution_count": 35,
   "id": "b52f501e",
   "metadata": {},
   "outputs": [
    {
     "name": "stderr",
     "output_type": "stream",
     "text": [
      "<ipython-input-35-66e6c9bce540>:27: MatplotlibDeprecationWarning: Using a string of single character colors as a color sequence is deprecated since 3.2 and will be removed two minor releases later. Use an explicit list instead.\n",
      "  plt.scatter(X_test[:,0], X_test[:,1], c='', edgecolor='black', alpha=1.0,\n"
     ]
    },
    {
     "data": {
      "image/png": "[encoded data removed]",
      "text/plain": [
       "<Figure size 432x288 with 1 Axes>"
      ]
     },
     "metadata": {
      "needs_background": "light"
     },
     "output_type": "display_data"
    }
   ],
   "source": [
    "X_2 = iris.data[:,[2,3]]\n",
    "\n",
    "\n",
    "def sv_plot_clf(X, y, classifier, test_idx = None, resolution = 0.02):\n",
    "    from matplotlib.colors import ListedColormap\n",
    "    import matplotlib.pyplot as plt\n",
    "    \n",
    "    marker = ('s','x','o','^','v')\n",
    "    colors = ('red','blue','lightgreen','gray','cyan')\n",
    "    cmap = ListedColormap(colors[:len(np.unique(y))])\n",
    "    \n",
    "    x1_min, x1_max = X[:,0].min() - 1, X[:,0].max() + 1\n",
    "    x2_min, x2_max = X[:,0].min() - 1, X[:,1].max() + 1\n",
    "    xx1, xx2 = np.meshgrid(np.arange(x1_min, x1_max, resolution), np.arange(x2_min, x2_max, resolution))\n",
    "    Z = classifier.predict(np.array([xx1.ravel(), xx2.ravel()]).T)\n",
    "    Z = Z.reshape(xx1.shape)\n",
    "    plt.contourf(xx1, xx2, Z, alpha=0.3, cmap=cmap)\n",
    "    plt.xlim(xx1.min(), xx1.max())\n",
    "    plt.ylim(xx2.min(), xx2.max())\n",
    "    \n",
    "    for idx, cl in enumerate(np.unique(y)):\n",
    "        plt.scatter(x = X[y == cl, 0], y = X[y == cl, 1], \n",
    "                    alpha=0.8, c=colors[idx], marker=marker[idx], label=cl, edgecolors='black')\n",
    "    \n",
    "    if test_idx:\n",
    "        X_test, y_test = X[test_idx,:], y[test_idx]\n",
    "        plt.scatter(X_test[:,0], X_test[:,1], c='', edgecolor='black', alpha=1.0, \n",
    "                    linewidth=1, marker='o', s=100, label='test set')\n",
    "\n",
    "X_train, X_test, y_train, y_test = train_test_split(X_2, y, test_size=0.3, random_state=924)\n",
    "rf = RandomForestClassifier(criterion='gini', n_estimators=25, random_state=924, n_jobs=-1)\n",
    "rf.fit(X_train, y_train)\n",
    "\n",
    "X_combined = np.vstack((X_train,X_test))\n",
    "y_combined = np.hstack((y_train,y_test))\n",
    "sv_plot_clf(X_combined, y_combined, classifier=rf, test_idx=range(105,150))\n",
    "plt.xlabel('petal length')\n",
    "plt.ylabel('petal width')\n",
    "plt.legend(loc='upper left')\n",
    "plt.tight_layout()\n",
    "plt.show()"
   ]
  },
  {
   "cell_type": "markdown",
   "id": "286251a0",
   "metadata": {},
   "source": [
    "#### feature scaling"
   ]
  },
  {
   "cell_type": "code",
   "execution_count": null,
   "id": "b2f0961e",
   "metadata": {},
   "outputs": [],
   "source": [
    "sc_X = StandardScaler()\n",
    "X_train = sc_X.fit_transform(X_train)\n",
    "X_test = sc_X.transform(X_test)\n",
    "sc_y = StandardScaler()\n",
    "y_train = sc_y.fit_transform(y_train)"
   ]
  },
  {
   "cell_type": "markdown",
   "id": "b394a57c",
   "metadata": {},
   "source": [
    "#### 최적의 hyper parameter 설정"
   ]
  },
  {
   "cell_type": "code",
   "execution_count": null,
   "id": "4d3c69f4",
   "metadata": {},
   "outputs": [],
   "source": [
    "confusion_matrix(y_test,y_pred)#### feature scaling#### feature scaling#### feature scaling#### confusion matrix로 잘 분류되었는지 확인'''\n",
    "criterion >> 모델 성능 평가할 때 사용할 방법\n",
    "n_estimator >> 의사결정 트리수\n",
    "n_jobs >> 모델 돌릴 때 사용하는 CPU 코어 갯수. 이보다 클수록 더 성능이 향상됨\n",
    "\n",
    "'''"
   ]
  },
  {
   "cell_type": "code",
   "execution_count": null,
   "id": "eb4d9208",
   "metadata": {},
   "outputs": [],
   "source": [
    "'''\n",
    "랜덤 포레스트 hyper parameter 총 7가지\n",
    "\n",
    "1. max_depth\n",
    "root node부터 leaf node까지의 최대 거리를 의미한다. 즉, 랜덤 포레스트의 깊이가 어느 정도인지 나타냄.\n",
    "값이 클수록 train set에는 적합이 잘 되지만, 어느 순간부터 overfitting으로 인해 test set에 대한 예측 성능은 떨어진다.\n",
    "\n",
    "2. min_sample_split\n",
    "노드를 분할하는 데에 필요한 최소 샘플 종류 수\n",
    "\n",
    "3. Max terminal node(Max leaf node)\n",
    "tree가 가질 수 있는 최대 leaf node 수. 마찬가지로 값이 크면 너무 세세하게 분할되어 overfitting이 발생한다.\n",
    "\n",
    "4. min samples leaf\n",
    "node 안에 남아있어야 할 최소 샘플 갯수\n",
    "값이 너무 작으면 overfitting, 반대로 너무 크면 underfitting(너무 안 나뉘어지므로)\n",
    "\n",
    "5. n_estimator\n",
    "size of trees. 크다고 overfitting 등이 문제가 발생하는 건 아니지만, time complexity가 커지면서 연산에 시간이 오래 걸린다.\n",
    "\n",
    "6. max samples\n",
    "\n",
    "\n",
    "'''"
   ]
  },
  {
   "cell_type": "markdown",
   "id": "f2803f31",
   "metadata": {},
   "source": [
    "### Regression"
   ]
  },
  {
   "cell_type": "code",
   "execution_count": 115,
   "id": "74d9d8f1",
   "metadata": {},
   "outputs": [],
   "source": [
    "import numpy as np\n",
    "import pandas as pd\n",
    "from sklearn.datasets import load_iris\n",
    "from sklearn.model_selection import train_test_split\n",
    "from sklearn.ensemble import RandomForestRegressor"
   ]
  },
  {
   "cell_type": "code",
   "execution_count": 116,
   "id": "e3f5b9c6",
   "metadata": {},
   "outputs": [
    {
     "data": {
      "text/html": [
       "<div>\n",
       "<style scoped>\n",
       "    .dataframe tbody tr th:only-of-type {\n",
       "        vertical-align: middle;\n",
       "    }\n",
       "\n",
       "    .dataframe tbody tr th {\n",
       "        vertical-align: top;\n",
       "    }\n",
       "\n",
       "    .dataframe thead th {\n",
       "        text-align: right;\n",
       "    }\n",
       "</style>\n",
       "<table border=\"1\" class=\"dataframe\">\n",
       "  <thead>\n",
       "    <tr style=\"text-align: right;\">\n",
       "      <th></th>\n",
       "      <th>Voltage</th>\n",
       "      <th>pH</th>\n",
       "    </tr>\n",
       "  </thead>\n",
       "  <tbody>\n",
       "    <tr>\n",
       "      <th>0</th>\n",
       "      <td>18</td>\n",
       "      <td>25</td>\n",
       "    </tr>\n",
       "    <tr>\n",
       "      <th>1</th>\n",
       "      <td>18</td>\n",
       "      <td>25</td>\n",
       "    </tr>\n",
       "    <tr>\n",
       "      <th>2</th>\n",
       "      <td>18</td>\n",
       "      <td>25</td>\n",
       "    </tr>\n",
       "    <tr>\n",
       "      <th>3</th>\n",
       "      <td>18</td>\n",
       "      <td>25</td>\n",
       "    </tr>\n",
       "    <tr>\n",
       "      <th>4</th>\n",
       "      <td>18</td>\n",
       "      <td>25</td>\n",
       "    </tr>\n",
       "    <tr>\n",
       "      <th>...</th>\n",
       "      <td>...</td>\n",
       "      <td>...</td>\n",
       "    </tr>\n",
       "    <tr>\n",
       "      <th>1405</th>\n",
       "      <td>25</td>\n",
       "      <td>23</td>\n",
       "    </tr>\n",
       "    <tr>\n",
       "      <th>1406</th>\n",
       "      <td>25</td>\n",
       "      <td>24</td>\n",
       "    </tr>\n",
       "    <tr>\n",
       "      <th>1407</th>\n",
       "      <td>25</td>\n",
       "      <td>24</td>\n",
       "    </tr>\n",
       "    <tr>\n",
       "      <th>1408</th>\n",
       "      <td>25</td>\n",
       "      <td>24</td>\n",
       "    </tr>\n",
       "    <tr>\n",
       "      <th>1409</th>\n",
       "      <td>25</td>\n",
       "      <td>24</td>\n",
       "    </tr>\n",
       "  </tbody>\n",
       "</table>\n",
       "<p>1410 rows × 2 columns</p>\n",
       "</div>"
      ],
      "text/plain": [
       "      Voltage  pH\n",
       "0          18  25\n",
       "1          18  25\n",
       "2          18  25\n",
       "3          18  25\n",
       "4          18  25\n",
       "...       ...  ..\n",
       "1405       25  23\n",
       "1406       25  24\n",
       "1407       25  24\n",
       "1408       25  24\n",
       "1409       25  24\n",
       "\n",
       "[1410 rows x 2 columns]"
      ]
     },
     "execution_count": 116,
     "metadata": {},
     "output_type": "execute_result"
    }
   ],
   "source": [
    "df_rfr = pd.read_csv(r\"C:\\Users\\lab\\Desktop\\WINTER\\CoolTerm Capture 2022-01-06 16-52-42.txt\",skiprows=4)\n",
    "df_rfr.columns = ['Voltage','pH']\n",
    "df_rfr"
   ]
  },
  {
   "cell_type": "code",
   "execution_count": 117,
   "id": "555fd08c",
   "metadata": {},
   "outputs": [],
   "source": [
    "xdata = np.array(df_rfr['Voltage']).reshape(-1,1)\n",
    "ydata = np.array(df_rfr['pH'])\n",
    "X_train, X_test, y_train, y_test = train_test_split(xdata, ydata, test_size=0.3, random_state=924)"
   ]
  },
  {
   "cell_type": "code",
   "execution_count": 118,
   "id": "d1af64ff",
   "metadata": {},
   "outputs": [],
   "source": [
    "rfr = RandomForestRegressor(n_estimators=25,random_state=924)"
   ]
  },
  {
   "cell_type": "code",
   "execution_count": 119,
   "id": "c52eb808",
   "metadata": {
    "scrolled": true
   },
   "outputs": [
    {
     "data": {
      "text/plain": [
       "array([25.49128141, 23.61387517, 30.32460606, 25.04380486, 25.04380486,\n",
       "       30.        , 25.49128141, 25.04380486, 27.78033822, 26.70212574,\n",
       "       25.04380486, 27.78519441, 23.61387517, 25.3948705 , 26.70212574,\n",
       "       22.00525589, 26.50287157, 19.52176117, 25.04380486, 27.63214868,\n",
       "       25.04380486, 25.89700778, 25.04380486, 23.70514522, 22.50013262,\n",
       "       25.04380486, 25.3948705 , 26.49066667, 30.        , 26.70212574,\n",
       "       23.70514522, 25.04380486, 19.52176117, 23.61387517, 25.04380486,\n",
       "       25.04380486, 26.70212574, 25.04380486, 22.00525589, 25.04380486,\n",
       "       25.3948705 , 25.04380486, 23.70514522, 25.04380486, 25.04380486,\n",
       "       27.78519441, 25.4       , 28.244     , 29.85788853, 26.70212574,\n",
       "       25.04380486, 25.04380486, 19.52176117, 25.04380486, 26.70212574,\n",
       "       25.04380486, 26.70212574, 25.04380486, 25.04380486, 26.70212574,\n",
       "       25.04380486, 25.04380486, 26.70212574, 30.90776879, 25.04380486,\n",
       "       25.89700778, 26.70212574, 25.04380486, 25.3948705 , 25.04380486,\n",
       "       22.50013262, 26.70212574, 25.04380486, 22.00525589, 22.50013262,\n",
       "       21.91493523, 19.52176117, 22.00525589, 25.04380486, 25.04380486,\n",
       "       29.85788853, 19.52176117, 25.04380486, 22.50013262, 26.70212574,\n",
       "       21.91493523, 27.63214868, 26.70212574, 27.78519441, 19.52176117,\n",
       "       25.04380486, 27.49759374, 19.52176117, 30.90776879, 19.52176117,\n",
       "       25.04380486, 30.        , 26.70212574, 27.49759374, 25.04380486,\n",
       "       25.04380486, 27.63214868, 30.89017338, 19.52176117, 25.04380486,\n",
       "       25.3948705 , 26.70212574, 21.91493523, 19.52176117, 26.70212574,\n",
       "       25.04380486, 25.04380486, 30.90776879, 26.70212574, 21.13532203,\n",
       "       26.70212574, 25.04380486, 26.70212574, 27.63214868, 25.04380486,\n",
       "       25.3948705 , 25.04380486, 25.10119048, 27.49759374, 23.70514522,\n",
       "       25.3948705 , 27.78519441, 27.25333333, 26.70212574, 23.61387517,\n",
       "       25.04380486, 23.70514522, 23.70514522, 25.04380486, 21.13532203,\n",
       "       22.50013262, 26.70212574, 25.04380486, 27.63214868, 19.52176117,\n",
       "       22.50013262, 19.52176117, 23.70514522, 25.04380486, 25.04380486,\n",
       "       25.04380486, 25.04380486, 25.04380486, 26.70212574, 25.04380486,\n",
       "       23.70514522, 30.79904957, 25.3948705 , 25.04380486, 21.91493523,\n",
       "       25.04380486, 26.70212574, 25.04380486, 27.39504762, 26.70212574,\n",
       "       26.70212574, 22.50013262, 22.00525589, 25.3948705 , 26.70212574,\n",
       "       25.04380486, 19.52176117, 26.70212574, 25.04380486, 28.28657143,\n",
       "       25.04380486, 26.70212574, 26.70212574, 26.70212574, 25.04380486,\n",
       "       25.04380486, 25.04380486, 26.70212574, 25.04380486, 25.04380486,\n",
       "       26.70212574, 26.70212574, 28.62952381, 26.70212574, 25.04380486,\n",
       "       22.00525589, 25.04380486, 25.89700778, 19.52176117, 25.628     ,\n",
       "       30.        , 30.79904957, 26.70212574, 25.04380486, 30.90776879,\n",
       "       26.70212574, 26.70212574, 25.04380486, 21.13532203, 26.70212574,\n",
       "       25.04380486, 26.70212574, 19.52176117, 30.79904957, 19.52176117,\n",
       "       28.29333333, 28.14542857, 25.3948705 , 25.04380486, 27.78519441,\n",
       "       26.49066667, 27.63214868, 30.90776879, 23.70514522, 26.70212574,\n",
       "       25.04380486, 25.04380486, 26.70212574, 19.52176117, 27.63214868,\n",
       "       25.04380486, 25.04380486, 28.62952381, 22.00525589, 28.94      ,\n",
       "       25.96      , 25.04380486, 26.70212574, 26.70212574, 25.49128141,\n",
       "       25.04380486, 26.70212574, 25.04380486, 25.4       , 25.04380486,\n",
       "       25.04380486, 25.04380486, 25.04380486, 27.78519441, 22.00525589,\n",
       "       30.        , 27.49759374, 25.04380486, 25.04380486, 25.04380486,\n",
       "       25.04380486, 27.78519441, 25.04380486, 25.04380486, 25.04380486,\n",
       "       30.89017338, 25.89700778, 19.52176117, 22.50013262, 22.50013262,\n",
       "       25.04380486, 25.04380486, 19.52176117, 25.04380486, 23.61387517,\n",
       "       21.13532203, 25.04380486, 25.04380486, 28.28657143, 25.04380486,\n",
       "       21.91493523, 25.04380486, 19.52176117, 27.78519441, 21.91493523,\n",
       "       26.70212574, 19.52176117, 19.52176117, 22.50013262, 23.61387517,\n",
       "       25.04380486, 26.70212574, 25.49128141, 30.        , 25.49128141,\n",
       "       30.90776879, 25.04380486, 19.52176117, 26.70212574, 23.70514522,\n",
       "       25.04380486, 19.52176117, 26.70212574, 22.00525589, 27.78519441,\n",
       "       25.49128141, 25.04380486, 26.70212574, 30.32460606, 26.70212574,\n",
       "       25.04380486, 25.10119048, 26.70212574, 26.70212574, 25.04380486,\n",
       "       27.78519441, 19.52176117, 25.04380486, 28.14542857, 25.04380486,\n",
       "       26.70212574, 25.04380486, 25.96      , 25.04380486, 23.70514522,\n",
       "       27.78519441, 23.61387517, 26.70212574, 22.00525589, 25.3948705 ,\n",
       "       26.70212574, 25.04380486, 26.70212574, 27.39504762, 21.13532203,\n",
       "       25.04380486, 26.96      , 25.04380486, 22.00525589, 26.70212574,\n",
       "       25.04380486, 22.50013262, 25.04380486, 25.04380486, 25.04380486,\n",
       "       25.04380486, 25.04380486, 25.04380486, 27.63214868, 19.52176117,\n",
       "       23.70514522, 19.52176117, 26.70212574, 21.91493523, 29.912     ,\n",
       "       22.50013262, 19.52176117, 21.91493523, 28.28657143, 25.04380486,\n",
       "       25.04380486, 26.70212574, 27.78519441, 30.        , 25.3948705 ,\n",
       "       25.04380486, 26.70212574, 25.89700778, 25.04380486, 27.78033822,\n",
       "       25.04380486, 26.12      , 25.04380486, 26.70212574, 25.49128141,\n",
       "       21.13532203, 23.61387517, 25.04380486, 27.78519441, 26.70212574,\n",
       "       27.78519441, 26.70212574, 30.79904957, 23.70514522, 25.04380486,\n",
       "       25.04380486, 21.13532203, 25.04380486, 22.50013262, 25.04380486,\n",
       "       19.52176117, 25.04380486, 22.00525589, 25.04380486, 27.78519441,\n",
       "       30.        , 25.04380486, 25.04380486, 25.04380486, 26.70212574,\n",
       "       22.00525589, 26.70212574, 26.70212574, 25.04380486, 27.78519441,\n",
       "       25.04380486, 25.89700778, 25.04380486, 22.50013262, 30.        ,\n",
       "       25.04380486, 26.70212574, 23.70514522, 27.63214868, 22.50013262,\n",
       "       22.00525589, 27.25333333, 19.52176117, 26.70212574, 25.04380486,\n",
       "       26.50287157, 26.70212574, 25.04380486, 26.776     , 25.04380486,\n",
       "       25.04380486, 25.04380486, 30.        , 23.61387517, 26.70212574,\n",
       "       25.3948705 , 25.04380486, 28.94      , 19.52176117, 21.13532203,\n",
       "       25.04380486, 25.04380486, 22.00525589])"
      ]
     },
     "execution_count": 119,
     "metadata": {},
     "output_type": "execute_result"
    }
   ],
   "source": [
    "rfr.fit(X_train, y_train)\n",
    "rfr_pred = rfr.predict(X_test)\n",
    "rfr_pred"
   ]
  },
  {
   "cell_type": "code",
   "execution_count": 120,
   "id": "9336b178",
   "metadata": {
    "scrolled": true
   },
   "outputs": [],
   "source": [
    "from sklearn.metrics import mean_squared_error\n",
    "\n",
    "mseOos = []\n",
    "nTreeList = range(50,500,10)\n",
    "for iTrees in nTreeList:\n",
    "    depth = None\n",
    "    maxFeat = 4\n",
    "    wineRFModel = RandomForestRegressor(n_estimators=iTrees, \n",
    "                                        max_depth=depth, \n",
    "#                                        max_features=maxFeat, \n",
    "                                        oob_score=False, \n",
    "                                        random_state=531)\n",
    "    wineRFModel.fit(X_train, y_train)\n",
    "    # 데이터 세트에 대한 MSE 누적\n",
    "    prediction = wineRFModel.predict(X_test)\n",
    "    mseOos.append(mean_squared_error(y_test, prediction))"
   ]
  },
  {
   "cell_type": "code",
   "execution_count": 121,
   "id": "72eab9c0",
   "metadata": {
    "scrolled": true
   },
   "outputs": [
    {
     "data": {
      "text/plain": [
       "[1.9090984459968803,\n",
       " 1.896036390876717,\n",
       " 1.8956849782048766,\n",
       " 1.8921010686988669,\n",
       " 1.8900498366461445,\n",
       " 1.8862425608479578,\n",
       " 1.8874727450344595,\n",
       " 1.8890160967265548,\n",
       " 1.8882239719784328,\n",
       " 1.888764679417785,\n",
       " 1.8848747921342255,\n",
       " 1.88783262510143,\n",
       " 1.8871047628252078,\n",
       " 1.8817810722334234,\n",
       " 1.8820102088959991,\n",
       " 1.880729630563595,\n",
       " 1.8806335229793767,\n",
       " 1.880392082431804,\n",
       " 1.8819767996355288,\n",
       " 1.881506637296245,\n",
       " 1.8812655263361624,\n",
       " 1.882381847119487,\n",
       " 1.882696749872702,\n",
       " 1.882763887226972,\n",
       " 1.882767687007393,\n",
       " 1.884222402559705,\n",
       " 1.882782093105377,\n",
       " 1.8821941884612743,\n",
       " 1.8805535519253864,\n",
       " 1.8813122724175795,\n",
       " 1.8810606505097518,\n",
       " 1.8802878239805443,\n",
       " 1.8792795348105154,\n",
       " 1.8780442127880286,\n",
       " 1.878210007125451,\n",
       " 1.8787371447484735,\n",
       " 1.8791262416667731,\n",
       " 1.8796020738191608,\n",
       " 1.8799335659063385,\n",
       " 1.8798229232867407,\n",
       " 1.8791775321489843,\n",
       " 1.8789527437930635,\n",
       " 1.8790499201969777,\n",
       " 1.8793795468819074,\n",
       " 1.8779651987956214]"
      ]
     },
     "execution_count": 121,
     "metadata": {},
     "output_type": "execute_result"
    }
   ],
   "source": [
    "mseOos"
   ]
  },
  {
   "cell_type": "code",
   "execution_count": 122,
   "id": "7496d414",
   "metadata": {},
   "outputs": [
    {
     "data": {
      "image/png": "[encoded data removed]",
      "text/plain": [
       "<Figure size 432x288 with 1 Axes>"
      ]
     },
     "metadata": {
      "needs_background": "light"
     },
     "output_type": "display_data"
    }
   ],
   "source": [
    "import matplotlib.pyplot as plt\n",
    "\n",
    "plt.plot(nTreeList, mseOos, color='black')\n",
    "plt.xlabel('Number of Trees in Ensemble')\n",
    "plt.ylabel('Mean Squared Error')\n",
    "plt.show()"
   ]
  },
  {
   "cell_type": "code",
   "execution_count": 92,
   "id": "9953681a",
   "metadata": {},
   "outputs": [
    {
     "data": {
      "text/plain": [
       "GridSearchCV(cv=5, estimator=RandomForestRegressor(random_state=531),\n",
       "             param_grid={'criterion': ['mse', 'mae'],\n",
       "                         'max_depth': [None, 5, 10, 20],\n",
       "                         'min_samples_leaf': [1, 2, 3, 4, 5],\n",
       "                         'n_estimators': [50, 100, 150, 200, 250, 300, 350, 400,\n",
       "                                          450, 500]})"
      ]
     },
     "execution_count": 92,
     "metadata": {},
     "output_type": "execute_result"
    }
   ],
   "source": [
    "from sklearn.model_selection import GridSearchCV\n",
    "\n",
    "param_grid = {'criterion' : ['mse','mae'],\n",
    "              'n_estimators': [i for i in range(50,501,50)], \n",
    "               'max_depth': [None, 5, 10, 20],\n",
    "               'min_samples_leaf': [1, 2, 3]}\n",
    "\n",
    "grid = GridSearchCV(RandomForestRegressor(random_state=531) , param_grid, refit = True, cv = 5)\n",
    "\n",
    "# fitting the model for grid search\n",
    "grid.fit(X_train, y_train)"
   ]
  },
  {
   "cell_type": "code",
   "execution_count": 93,
   "id": "d3e55089",
   "metadata": {},
   "outputs": [
    {
     "name": "stdout",
     "output_type": "stream",
     "text": [
      "RandomForestRegressor(max_depth=10, n_estimators=50, random_state=531)\n"
     ]
    }
   ],
   "source": [
    "print(grid.best_estimator_)"
   ]
  },
  {
   "cell_type": "code",
   "execution_count": 94,
   "id": "ff55ff0f",
   "metadata": {
    "scrolled": true
   },
   "outputs": [
    {
     "data": {
      "text/plain": [
       "array([25.58468828, 23.62730912, 30.32325541, 25.06106133, 25.06106133,\n",
       "       30.        , 25.58468828, 25.06106133, 27.52119048, 26.69440663,\n",
       "       25.06106133, 27.78177573, 23.62730912, 25.43301794, 26.69440663,\n",
       "       21.92063592, 26.46143579, 19.52720158, 25.06106133, 27.59774701,\n",
       "       25.06106133, 25.89688158, 25.06106133, 23.6724109 , 22.47441672,\n",
       "       25.06106133, 25.43301794, 26.44471429, 30.        , 26.69440663,\n",
       "       23.6724109 , 25.06106133, 19.52720158, 23.62730912, 25.06106133,\n",
       "       25.06106133, 26.69440663, 25.06106133, 21.92063592, 25.06106133,\n",
       "       25.43301794, 25.06106133, 23.6724109 , 25.06106133, 25.06106133,\n",
       "       27.78177573, 25.2       , 28.65485714, 29.80063898, 26.69440663,\n",
       "       25.06106133, 25.06106133, 19.52720158, 25.06106133, 26.69440663,\n",
       "       25.06106133, 26.69440663, 25.06106133, 25.06106133, 26.69440663,\n",
       "       25.06106133, 25.06106133, 26.69440663, 30.847001  , 25.06106133,\n",
       "       25.89688158, 26.69440663, 25.06106133, 25.43301794, 25.06106133,\n",
       "       22.47441672, 26.69440663, 25.06106133, 21.92063592, 22.47441672,\n",
       "       21.70019741, 19.52720158, 21.92063592, 25.06106133, 25.06106133,\n",
       "       29.80063898, 19.52720158, 25.06106133, 22.47441672, 26.69440663,\n",
       "       21.70019741, 27.59774701, 26.69440663, 27.78177573, 19.52720158,\n",
       "       25.06106133, 27.46190837, 19.52720158, 30.847001  , 19.52720158,\n",
       "       25.06106133, 30.        , 26.69440663, 27.46190837, 25.06106133,\n",
       "       25.06106133, 27.59774701, 30.91587259, 19.52720158, 25.06106133,\n",
       "       25.43301794, 26.69440663, 21.70019741, 19.52720158, 26.69440663,\n",
       "       25.06106133, 25.06106133, 30.847001  , 26.69440663, 21.02160118,\n",
       "       26.69440663, 25.06106133, 26.69440663, 27.59774701, 25.06106133,\n",
       "       25.43301794, 25.06106133, 25.05828571, 27.46190837, 23.6724109 ,\n",
       "       25.43301794, 27.78177573, 27.068     , 26.69440663, 23.62730912,\n",
       "       25.06106133, 23.6724109 , 23.6724109 , 25.06106133, 21.02160118,\n",
       "       22.47441672, 26.69440663, 25.06106133, 27.59774701, 19.52720158,\n",
       "       22.47441672, 19.52720158, 23.6724109 , 25.06106133, 25.06106133,\n",
       "       25.06106133, 25.06106133, 25.06106133, 26.69440663, 25.06106133,\n",
       "       23.6724109 , 30.85967759, 25.43301794, 25.06106133, 21.70019741,\n",
       "       25.06106133, 26.69440663, 25.06106133, 27.51567532, 26.69440663,\n",
       "       26.69440663, 22.47441672, 21.92063592, 25.43301794, 26.69440663,\n",
       "       25.06106133, 19.52720158, 26.69440663, 25.06106133, 27.94919048,\n",
       "       25.06106133, 26.69440663, 26.69440663, 26.69440663, 25.06106133,\n",
       "       25.06106133, 25.06106133, 26.69440663, 25.06106133, 25.06106133,\n",
       "       26.69440663, 26.69440663, 28.54063492, 26.69440663, 25.06106133,\n",
       "       21.92063592, 25.06106133, 25.89688158, 19.52720158, 25.617     ,\n",
       "       30.        , 30.85967759, 26.69440663, 25.06106133, 30.847001  ,\n",
       "       26.69440663, 26.69440663, 25.06106133, 21.02160118, 26.69440663,\n",
       "       25.06106133, 26.69440663, 19.52720158, 30.85967759, 19.52720158,\n",
       "       28.25066667, 28.29925397, 25.43301794, 25.06106133, 27.78177573,\n",
       "       26.44471429, 27.59774701, 30.847001  , 23.6724109 , 26.69440663,\n",
       "       25.06106133, 25.06106133, 26.69440663, 19.52720158, 27.59774701,\n",
       "       25.06106133, 25.06106133, 28.54063492, 21.92063592, 28.76977778,\n",
       "       25.84      , 25.06106133, 26.69440663, 26.69440663, 25.58468828,\n",
       "       25.06106133, 26.69440663, 25.06106133, 25.2       , 25.06106133,\n",
       "       25.06106133, 25.06106133, 25.06106133, 27.78177573, 21.92063592,\n",
       "       30.        , 27.46190837, 25.06106133, 25.06106133, 25.06106133,\n",
       "       25.06106133, 27.78177573, 25.06106133, 25.06106133, 25.06106133,\n",
       "       30.91587259, 25.89688158, 19.52720158, 22.47441672, 22.47441672,\n",
       "       25.06106133, 25.06106133, 19.52720158, 25.06106133, 23.62730912,\n",
       "       21.02160118, 25.06106133, 25.06106133, 27.94919048, 25.06106133,\n",
       "       21.70019741, 25.06106133, 19.52720158, 27.78177573, 21.70019741,\n",
       "       26.69440663, 19.52720158, 19.52720158, 22.47441672, 23.62730912,\n",
       "       25.06106133, 26.69440663, 25.58468828, 30.        , 25.58468828,\n",
       "       30.847001  , 25.06106133, 19.52720158, 26.69440663, 23.6724109 ,\n",
       "       25.06106133, 19.52720158, 26.69440663, 21.92063592, 27.78177573,\n",
       "       25.58468828, 25.06106133, 26.69440663, 30.32325541, 26.69440663,\n",
       "       25.06106133, 25.05828571, 26.69440663, 26.69440663, 25.06106133,\n",
       "       27.78177573, 19.52720158, 25.06106133, 28.29925397, 25.06106133,\n",
       "       26.69440663, 25.06106133, 25.84      , 25.06106133, 23.6724109 ,\n",
       "       27.78177573, 23.62730912, 26.69440663, 21.92063592, 25.43301794,\n",
       "       26.69440663, 25.06106133, 26.69440663, 27.51567532, 21.02160118,\n",
       "       25.06106133, 26.89      , 25.06106133, 21.92063592, 26.69440663,\n",
       "       25.06106133, 22.47441672, 25.06106133, 25.06106133, 25.06106133,\n",
       "       25.06106133, 25.06106133, 25.06106133, 27.59774701, 19.52720158,\n",
       "       23.6724109 , 19.52720158, 26.69440663, 21.70019741, 29.895     ,\n",
       "       22.47441672, 19.52720158, 21.70019741, 27.94919048, 25.06106133,\n",
       "       25.06106133, 26.69440663, 27.78177573, 30.        , 25.43301794,\n",
       "       25.06106133, 26.69440663, 25.89688158, 25.06106133, 27.52119048,\n",
       "       25.06106133, 26.        , 25.06106133, 26.69440663, 25.58468828,\n",
       "       21.02160118, 23.62730912, 25.06106133, 27.78177573, 26.69440663,\n",
       "       27.78177573, 26.69440663, 30.85967759, 23.6724109 , 25.06106133,\n",
       "       25.06106133, 21.02160118, 25.06106133, 22.47441672, 25.06106133,\n",
       "       19.52720158, 25.06106133, 21.92063592, 25.06106133, 27.78177573,\n",
       "       30.        , 25.06106133, 25.06106133, 25.06106133, 26.69440663,\n",
       "       21.92063592, 26.69440663, 26.69440663, 25.06106133, 27.78177573,\n",
       "       25.06106133, 25.89688158, 25.06106133, 22.47441672, 30.        ,\n",
       "       25.06106133, 26.69440663, 23.6724109 , 27.59774701, 22.47441672,\n",
       "       21.92063592, 27.068     , 19.52720158, 26.69440663, 25.06106133,\n",
       "       26.46143579, 26.69440663, 25.06106133, 27.00007143, 25.06106133,\n",
       "       25.06106133, 25.06106133, 30.        , 23.62730912, 26.69440663,\n",
       "       25.43301794, 25.06106133, 28.76977778, 19.52720158, 21.02160118,\n",
       "       25.06106133, 25.06106133, 21.92063592])"
      ]
     },
     "execution_count": 94,
     "metadata": {},
     "output_type": "execute_result"
    }
   ],
   "source": [
    "rfr_grid_pred = grid.best_estimator_.predict(X_test)\n",
    "rfr_grid_pred"
   ]
  },
  {
   "cell_type": "code",
   "execution_count": 95,
   "id": "ecbacc7e",
   "metadata": {},
   "outputs": [
    {
     "data": {
      "text/plain": [
       "1.909120703887715"
      ]
     },
     "execution_count": 95,
     "metadata": {},
     "output_type": "execute_result"
    }
   ],
   "source": [
    "mean_squared_error(y_test,rfr_grid_pred)"
   ]
  },
  {
   "cell_type": "markdown",
   "id": "a163692b",
   "metadata": {},
   "source": [
    "## Support Vector Machine"
   ]
  },
  {
   "cell_type": "markdown",
   "id": "b108c3c8",
   "metadata": {},
   "source": [
    "### classification"
   ]
  },
  {
   "cell_type": "markdown",
   "id": "31f0dd5a",
   "metadata": {},
   "source": [
    "#### 필요한 module import"
   ]
  },
  {
   "cell_type": "code",
   "execution_count": 131,
   "id": "4db329ed",
   "metadata": {},
   "outputs": [],
   "source": [
    "from sklearn.datasets import load_iris\n",
    "from sklearn.pipeline import Pipeline\n",
    "from sklearn.preprocessing import StandardScaler\n",
    "from sklearn.svm import LinearSVC\n",
    "from sklearn.preprocessing import PolynomialFeatures\n",
    "from sklearn.model_selection import train_test_split\n",
    "from sklearn.metrics import accuracy_score, confusion_matrix"
   ]
  },
  {
   "cell_type": "markdown",
   "id": "b10e315b",
   "metadata": {},
   "source": [
    "#### 사용할 iris 데이터 가져온 후 train, test data로 나누기"
   ]
  },
  {
   "cell_type": "code",
   "execution_count": 132,
   "id": "3d84a188",
   "metadata": {},
   "outputs": [],
   "source": [
    "iris = load_iris()\n",
    "\n",
    "X = iris.data[:,[2,3]]\n",
    "y = iris.target\n",
    "\n",
    "X_train, X_test, y_train, y_test = train_test_split(X, y, test_size = 0.3, random_state = 924)"
   ]
  },
  {
   "cell_type": "code",
   "execution_count": 83,
   "id": "fa73a3fa",
   "metadata": {},
   "outputs": [],
   "source": [
    "svm_clf = Pipeline([(\"scaler\", StandardScaler()), (\"linear_svc\",LinearSVC(C=1,loss='hinge'))])"
   ]
  },
  {
   "cell_type": "code",
   "execution_count": 84,
   "id": "af445826",
   "metadata": {},
   "outputs": [
    {
     "data": {
      "text/plain": [
       "Pipeline(steps=[('scaler', StandardScaler()),\n",
       "                ('linear_svc', LinearSVC(C=1, loss='hinge'))])"
      ]
     },
     "execution_count": 84,
     "metadata": {},
     "output_type": "execute_result"
    }
   ],
   "source": [
    "svm_clf.fit(X_train,y_train)"
   ]
  },
  {
   "cell_type": "code",
   "execution_count": 85,
   "id": "68bbdf96",
   "metadata": {},
   "outputs": [
    {
     "data": {
      "text/plain": [
       "array([0, 0, 1, 0, 2, 2, 1, 0, 1, 1, 2, 0, 2, 1, 0, 0, 0, 1, 2, 2, 0, 2,\n",
       "       0, 0, 2, 0, 1, 0, 2, 1, 1, 1, 2, 0, 2, 1, 2, 1, 0, 2, 0, 1, 1, 0,\n",
       "       0])"
      ]
     },
     "execution_count": 85,
     "metadata": {},
     "output_type": "execute_result"
    }
   ],
   "source": [
    "y_pred = svm_clf.predict(X_test)\n",
    "y_pred"
   ]
  },
  {
   "cell_type": "code",
   "execution_count": 86,
   "id": "76051b38",
   "metadata": {},
   "outputs": [
    {
     "data": {
      "text/plain": [
       "0.9333333333333333"
      ]
     },
     "execution_count": 86,
     "metadata": {},
     "output_type": "execute_result"
    }
   ],
   "source": [
    "accuracy_score(y_test, y_pred)"
   ]
  },
  {
   "cell_type": "code",
   "execution_count": 87,
   "id": "ca7f8610",
   "metadata": {},
   "outputs": [
    {
     "data": {
      "text/plain": [
       "array([[18,  1,  0],\n",
       "       [ 0, 12,  1],\n",
       "       [ 0,  1, 12]], dtype=int64)"
      ]
     },
     "execution_count": 87,
     "metadata": {},
     "output_type": "execute_result"
    }
   ],
   "source": [
    "confusion_matrix(y_test, y_pred)"
   ]
  },
  {
   "cell_type": "code",
   "execution_count": 100,
   "id": "85a0b8f3",
   "metadata": {},
   "outputs": [],
   "source": [
    "X_train, X_test, y_train, y_test = train_test_split(X, y, test_size = 0.3, random_state = 924)\n",
    "sc = StandardScaler()\n",
    "sc.fit(X_train)\n",
    "X_train_std = sc.transform(X_train)\n",
    "X_test_std = sc.transform(X_test)"
   ]
  },
  {
   "cell_type": "code",
   "execution_count": 90,
   "id": "cb3cff83",
   "metadata": {},
   "outputs": [
    {
     "data": {
      "text/plain": [
       "SVC(gamma=0.2, random_state=924)"
      ]
     },
     "execution_count": 90,
     "metadata": {},
     "output_type": "execute_result"
    }
   ],
   "source": [
    "import numpy as np\n",
    "from sklearn.svm import SVC\n",
    "\n",
    "svm = SVC(kernel = 'rbf', random_state=924, gamma=0.2, C=1.0)\n",
    "svm.fit(X_train_std, y_train)"
   ]
  },
  {
   "cell_type": "markdown",
   "id": "38d6e457",
   "metadata": {},
   "source": [
    "### 최적의 hyper-parameter 설정"
   ]
  },
  {
   "cell_type": "code",
   "execution_count": 91,
   "id": "af8926c6",
   "metadata": {},
   "outputs": [
    {
     "name": "stdout",
     "output_type": "stream",
     "text": [
      "Fitting 5 folds for each of 75 candidates, totalling 375 fits\n",
      "[CV 1/5] END .....................C=0.1, gamma=1, kernel=rbf; total time=   0.0s\n",
      "[CV 2/5] END .....................C=0.1, gamma=1, kernel=rbf; total time=   0.0s\n",
      "[CV 3/5] END .....................C=0.1, gamma=1, kernel=rbf; total time=   0.0s\n",
      "[CV 4/5] END .....................C=0.1, gamma=1, kernel=rbf; total time=   0.0s\n",
      "[CV 5/5] END .....................C=0.1, gamma=1, kernel=rbf; total time=   0.0s\n",
      "[CV 1/5] END .................C=0.1, gamma=1, kernel=sigmoid; total time=   0.0s\n",
      "[CV 2/5] END .................C=0.1, gamma=1, kernel=sigmoid; total time=   0.0s\n",
      "[CV 3/5] END .................C=0.1, gamma=1, kernel=sigmoid; total time=   0.0s\n",
      "[CV 4/5] END .................C=0.1, gamma=1, kernel=sigmoid; total time=   0.0s\n",
      "[CV 5/5] END .................C=0.1, gamma=1, kernel=sigmoid; total time=   0.0s\n",
      "[CV 1/5] END ..................C=0.1, gamma=1, kernel=linear; total time=   0.0s\n",
      "[CV 2/5] END ..................C=0.1, gamma=1, kernel=linear; total time=   0.0s\n",
      "[CV 3/5] END ..................C=0.1, gamma=1, kernel=linear; total time=   0.0s\n",
      "[CV 4/5] END ..................C=0.1, gamma=1, kernel=linear; total time=   0.0s\n",
      "[CV 5/5] END ..................C=0.1, gamma=1, kernel=linear; total time=   0.0s\n",
      "[CV 1/5] END ...................C=0.1, gamma=0.1, kernel=rbf; total time=   0.0s\n",
      "[CV 2/5] END ...................C=0.1, gamma=0.1, kernel=rbf; total time=   0.0s\n",
      "[CV 3/5] END ...................C=0.1, gamma=0.1, kernel=rbf; total time=   0.0s\n",
      "[CV 4/5] END ...................C=0.1, gamma=0.1, kernel=rbf; total time=   0.0s\n",
      "[CV 5/5] END ...................C=0.1, gamma=0.1, kernel=rbf; total time=   0.0s\n",
      "[CV 1/5] END ...............C=0.1, gamma=0.1, kernel=sigmoid; total time=   0.0s\n",
      "[CV 2/5] END ...............C=0.1, gamma=0.1, kernel=sigmoid; total time=   0.0s\n",
      "[CV 3/5] END ...............C=0.1, gamma=0.1, kernel=sigmoid; total time=   0.0s\n",
      "[CV 4/5] END ...............C=0.1, gamma=0.1, kernel=sigmoid; total time=   0.0s\n",
      "[CV 5/5] END ...............C=0.1, gamma=0.1, kernel=sigmoid; total time=   0.0s\n",
      "[CV 1/5] END ................C=0.1, gamma=0.1, kernel=linear; total time=   0.0s\n",
      "[CV 2/5] END ................C=0.1, gamma=0.1, kernel=linear; total time=   0.0s\n",
      "[CV 3/5] END ................C=0.1, gamma=0.1, kernel=linear; total time=   0.0s\n",
      "[CV 4/5] END ................C=0.1, gamma=0.1, kernel=linear; total time=   0.0s\n",
      "[CV 5/5] END ................C=0.1, gamma=0.1, kernel=linear; total time=   0.0s\n",
      "[CV 1/5] END ..................C=0.1, gamma=0.01, kernel=rbf; total time=   0.0s\n",
      "[CV 2/5] END ..................C=0.1, gamma=0.01, kernel=rbf; total time=   0.0s\n",
      "[CV 3/5] END ..................C=0.1, gamma=0.01, kernel=rbf; total time=   0.0s\n",
      "[CV 4/5] END ..................C=0.1, gamma=0.01, kernel=rbf; total time=   0.0s\n",
      "[CV 5/5] END ..................C=0.1, gamma=0.01, kernel=rbf; total time=   0.0s\n",
      "[CV 1/5] END ..............C=0.1, gamma=0.01, kernel=sigmoid; total time=   0.0s\n",
      "[CV 2/5] END ..............C=0.1, gamma=0.01, kernel=sigmoid; total time=   0.0s\n",
      "[CV 3/5] END ..............C=0.1, gamma=0.01, kernel=sigmoid; total time=   0.0s\n",
      "[CV 4/5] END ..............C=0.1, gamma=0.01, kernel=sigmoid; total time=   0.0s\n",
      "[CV 5/5] END ..............C=0.1, gamma=0.01, kernel=sigmoid; total time=   0.0s\n",
      "[CV 1/5] END ...............C=0.1, gamma=0.01, kernel=linear; total time=   0.0s\n",
      "[CV 2/5] END ...............C=0.1, gamma=0.01, kernel=linear; total time=   0.0s\n",
      "[CV 3/5] END ...............C=0.1, gamma=0.01, kernel=linear; total time=   0.0s\n",
      "[CV 4/5] END ...............C=0.1, gamma=0.01, kernel=linear; total time=   0.0s\n",
      "[CV 5/5] END ...............C=0.1, gamma=0.01, kernel=linear; total time=   0.0s\n",
      "[CV 1/5] END .................C=0.1, gamma=0.001, kernel=rbf; total time=   0.0s\n",
      "[CV 2/5] END .................C=0.1, gamma=0.001, kernel=rbf; total time=   0.0s\n",
      "[CV 3/5] END .................C=0.1, gamma=0.001, kernel=rbf; total time=   0.0s\n",
      "[CV 4/5] END .................C=0.1, gamma=0.001, kernel=rbf; total time=   0.0s\n",
      "[CV 5/5] END .................C=0.1, gamma=0.001, kernel=rbf; total time=   0.0s\n",
      "[CV 1/5] END .............C=0.1, gamma=0.001, kernel=sigmoid; total time=   0.0s\n",
      "[CV 2/5] END .............C=0.1, gamma=0.001, kernel=sigmoid; total time=   0.0s\n",
      "[CV 3/5] END .............C=0.1, gamma=0.001, kernel=sigmoid; total time=   0.0s\n",
      "[CV 4/5] END .............C=0.1, gamma=0.001, kernel=sigmoid; total time=   0.0s\n",
      "[CV 5/5] END .............C=0.1, gamma=0.001, kernel=sigmoid; total time=   0.0s\n",
      "[CV 1/5] END ..............C=0.1, gamma=0.001, kernel=linear; total time=   0.0s\n",
      "[CV 2/5] END ..............C=0.1, gamma=0.001, kernel=linear; total time=   0.0s\n",
      "[CV 3/5] END ..............C=0.1, gamma=0.001, kernel=linear; total time=   0.0s\n",
      "[CV 4/5] END ..............C=0.1, gamma=0.001, kernel=linear; total time=   0.0s\n",
      "[CV 5/5] END ..............C=0.1, gamma=0.001, kernel=linear; total time=   0.0s\n",
      "[CV 1/5] END ................C=0.1, gamma=0.0001, kernel=rbf; total time=   0.0s\n",
      "[CV 2/5] END ................C=0.1, gamma=0.0001, kernel=rbf; total time=   0.0s\n",
      "[CV 3/5] END ................C=0.1, gamma=0.0001, kernel=rbf; total time=   0.0s\n",
      "[CV 4/5] END ................C=0.1, gamma=0.0001, kernel=rbf; total time=   0.0s\n",
      "[CV 5/5] END ................C=0.1, gamma=0.0001, kernel=rbf; total time=   0.0s\n",
      "[CV 1/5] END ............C=0.1, gamma=0.0001, kernel=sigmoid; total time=   0.0s\n",
      "[CV 2/5] END ............C=0.1, gamma=0.0001, kernel=sigmoid; total time=   0.0s\n",
      "[CV 3/5] END ............C=0.1, gamma=0.0001, kernel=sigmoid; total time=   0.0s\n",
      "[CV 4/5] END ............C=0.1, gamma=0.0001, kernel=sigmoid; total time=   0.0s\n",
      "[CV 5/5] END ............C=0.1, gamma=0.0001, kernel=sigmoid; total time=   0.0s\n",
      "[CV 1/5] END .............C=0.1, gamma=0.0001, kernel=linear; total time=   0.0s\n",
      "[CV 2/5] END .............C=0.1, gamma=0.0001, kernel=linear; total time=   0.0s\n",
      "[CV 3/5] END .............C=0.1, gamma=0.0001, kernel=linear; total time=   0.0s\n",
      "[CV 4/5] END .............C=0.1, gamma=0.0001, kernel=linear; total time=   0.0s\n",
      "[CV 5/5] END .............C=0.1, gamma=0.0001, kernel=linear; total time=   0.0s\n",
      "[CV 1/5] END .......................C=1, gamma=1, kernel=rbf; total time=   0.0s\n",
      "[CV 2/5] END .......................C=1, gamma=1, kernel=rbf; total time=   0.0s\n",
      "[CV 3/5] END .......................C=1, gamma=1, kernel=rbf; total time=   0.0s\n",
      "[CV 4/5] END .......................C=1, gamma=1, kernel=rbf; total time=   0.0s\n",
      "[CV 5/5] END .......................C=1, gamma=1, kernel=rbf; total time=   0.0s\n",
      "[CV 1/5] END ...................C=1, gamma=1, kernel=sigmoid; total time=   0.0s\n",
      "[CV 2/5] END ...................C=1, gamma=1, kernel=sigmoid; total time=   0.0s\n",
      "[CV 3/5] END ...................C=1, gamma=1, kernel=sigmoid; total time=   0.0s\n",
      "[CV 4/5] END ...................C=1, gamma=1, kernel=sigmoid; total time=   0.0s\n",
      "[CV 5/5] END ...................C=1, gamma=1, kernel=sigmoid; total time=   0.0s\n",
      "[CV 1/5] END ....................C=1, gamma=1, kernel=linear; total time=   0.0s\n",
      "[CV 2/5] END ....................C=1, gamma=1, kernel=linear; total time=   0.0s\n",
      "[CV 3/5] END ....................C=1, gamma=1, kernel=linear; total time=   0.0s\n",
      "[CV 4/5] END ....................C=1, gamma=1, kernel=linear; total time=   0.0s\n",
      "[CV 5/5] END ....................C=1, gamma=1, kernel=linear; total time=   0.0s\n",
      "[CV 1/5] END .....................C=1, gamma=0.1, kernel=rbf; total time=   0.0s\n",
      "[CV 2/5] END .....................C=1, gamma=0.1, kernel=rbf; total time=   0.0s\n",
      "[CV 3/5] END .....................C=1, gamma=0.1, kernel=rbf; total time=   0.0s\n",
      "[CV 4/5] END .....................C=1, gamma=0.1, kernel=rbf; total time=   0.0s\n",
      "[CV 5/5] END .....................C=1, gamma=0.1, kernel=rbf; total time=   0.0s\n",
      "[CV 1/5] END .................C=1, gamma=0.1, kernel=sigmoid; total time=   0.0s\n",
      "[CV 2/5] END .................C=1, gamma=0.1, kernel=sigmoid; total time=   0.0s\n",
      "[CV 3/5] END .................C=1, gamma=0.1, kernel=sigmoid; total time=   0.0s\n",
      "[CV 4/5] END .................C=1, gamma=0.1, kernel=sigmoid; total time=   0.0s\n",
      "[CV 5/5] END .................C=1, gamma=0.1, kernel=sigmoid; total time=   0.0s\n",
      "[CV 1/5] END ..................C=1, gamma=0.1, kernel=linear; total time=   0.0s\n",
      "[CV 2/5] END ..................C=1, gamma=0.1, kernel=linear; total time=   0.0s\n",
      "[CV 3/5] END ..................C=1, gamma=0.1, kernel=linear; total time=   0.0s\n",
      "[CV 4/5] END ..................C=1, gamma=0.1, kernel=linear; total time=   0.0s\n",
      "[CV 5/5] END ..................C=1, gamma=0.1, kernel=linear; total time=   0.0s\n",
      "[CV 1/5] END ....................C=1, gamma=0.01, kernel=rbf; total time=   0.0s\n",
      "[CV 2/5] END ....................C=1, gamma=0.01, kernel=rbf; total time=   0.0s\n",
      "[CV 3/5] END ....................C=1, gamma=0.01, kernel=rbf; total time=   0.0s\n",
      "[CV 4/5] END ....................C=1, gamma=0.01, kernel=rbf; total time=   0.0s\n",
      "[CV 5/5] END ....................C=1, gamma=0.01, kernel=rbf; total time=   0.0s\n",
      "[CV 1/5] END ................C=1, gamma=0.01, kernel=sigmoid; total time=   0.0s\n",
      "[CV 2/5] END ................C=1, gamma=0.01, kernel=sigmoid; total time=   0.0s\n",
      "[CV 3/5] END ................C=1, gamma=0.01, kernel=sigmoid; total time=   0.0s\n",
      "[CV 4/5] END ................C=1, gamma=0.01, kernel=sigmoid; total time=   0.0s\n",
      "[CV 5/5] END ................C=1, gamma=0.01, kernel=sigmoid; total time=   0.0s\n",
      "[CV 1/5] END .................C=1, gamma=0.01, kernel=linear; total time=   0.0s\n",
      "[CV 2/5] END .................C=1, gamma=0.01, kernel=linear; total time=   0.0s\n",
      "[CV 3/5] END .................C=1, gamma=0.01, kernel=linear; total time=   0.0s\n",
      "[CV 4/5] END .................C=1, gamma=0.01, kernel=linear; total time=   0.0s\n",
      "[CV 5/5] END .................C=1, gamma=0.01, kernel=linear; total time=   0.0s\n",
      "[CV 1/5] END ...................C=1, gamma=0.001, kernel=rbf; total time=   0.0s\n",
      "[CV 2/5] END ...................C=1, gamma=0.001, kernel=rbf; total time=   0.0s\n",
      "[CV 3/5] END ...................C=1, gamma=0.001, kernel=rbf; total time=   0.0s\n",
      "[CV 4/5] END ...................C=1, gamma=0.001, kernel=rbf; total time=   0.0s\n",
      "[CV 5/5] END ...................C=1, gamma=0.001, kernel=rbf; total time=   0.0s\n",
      "[CV 1/5] END ...............C=1, gamma=0.001, kernel=sigmoid; total time=   0.0s\n",
      "[CV 2/5] END ...............C=1, gamma=0.001, kernel=sigmoid; total time=   0.0s\n",
      "[CV 3/5] END ...............C=1, gamma=0.001, kernel=sigmoid; total time=   0.0s\n",
      "[CV 4/5] END ...............C=1, gamma=0.001, kernel=sigmoid; total time=   0.0s\n",
      "[CV 5/5] END ...............C=1, gamma=0.001, kernel=sigmoid; total time=   0.0s\n",
      "[CV 1/5] END ................C=1, gamma=0.001, kernel=linear; total time=   0.0s\n",
      "[CV 2/5] END ................C=1, gamma=0.001, kernel=linear; total time=   0.0s\n",
      "[CV 3/5] END ................C=1, gamma=0.001, kernel=linear; total time=   0.0s\n",
      "[CV 4/5] END ................C=1, gamma=0.001, kernel=linear; total time=   0.0s\n",
      "[CV 5/5] END ................C=1, gamma=0.001, kernel=linear; total time=   0.0s\n",
      "[CV 1/5] END ..................C=1, gamma=0.0001, kernel=rbf; total time=   0.0s\n",
      "[CV 2/5] END ..................C=1, gamma=0.0001, kernel=rbf; total time=   0.0s\n",
      "[CV 3/5] END ..................C=1, gamma=0.0001, kernel=rbf; total time=   0.0s\n",
      "[CV 4/5] END ..................C=1, gamma=0.0001, kernel=rbf; total time=   0.0s\n",
      "[CV 5/5] END ..................C=1, gamma=0.0001, kernel=rbf; total time=   0.0s\n",
      "[CV 1/5] END ..............C=1, gamma=0.0001, kernel=sigmoid; total time=   0.0s\n",
      "[CV 2/5] END ..............C=1, gamma=0.0001, kernel=sigmoid; total time=   0.0s\n",
      "[CV 3/5] END ..............C=1, gamma=0.0001, kernel=sigmoid; total time=   0.0s\n",
      "[CV 4/5] END ..............C=1, gamma=0.0001, kernel=sigmoid; total time=   0.0s\n",
      "[CV 5/5] END ..............C=1, gamma=0.0001, kernel=sigmoid; total time=   0.0s\n",
      "[CV 1/5] END ...............C=1, gamma=0.0001, kernel=linear; total time=   0.0s\n",
      "[CV 2/5] END ...............C=1, gamma=0.0001, kernel=linear; total time=   0.0s\n",
      "[CV 3/5] END ...............C=1, gamma=0.0001, kernel=linear; total time=   0.0s\n",
      "[CV 4/5] END ...............C=1, gamma=0.0001, kernel=linear; total time=   0.0s\n",
      "[CV 5/5] END ...............C=1, gamma=0.0001, kernel=linear; total time=   0.0s\n",
      "[CV 1/5] END ......................C=10, gamma=1, kernel=rbf; total time=   0.0s\n",
      "[CV 2/5] END ......................C=10, gamma=1, kernel=rbf; total time=   0.0s\n",
      "[CV 3/5] END ......................C=10, gamma=1, kernel=rbf; total time=   0.0s\n",
      "[CV 4/5] END ......................C=10, gamma=1, kernel=rbf; total time=   0.0s\n",
      "[CV 5/5] END ......................C=10, gamma=1, kernel=rbf; total time=   0.0s\n",
      "[CV 1/5] END ..................C=10, gamma=1, kernel=sigmoid; total time=   0.0s\n",
      "[CV 2/5] END ..................C=10, gamma=1, kernel=sigmoid; total time=   0.0s\n",
      "[CV 3/5] END ..................C=10, gamma=1, kernel=sigmoid; total time=   0.0s\n",
      "[CV 4/5] END ..................C=10, gamma=1, kernel=sigmoid; total time=   0.0s\n",
      "[CV 5/5] END ..................C=10, gamma=1, kernel=sigmoid; total time=   0.0s\n",
      "[CV 1/5] END ...................C=10, gamma=1, kernel=linear; total time=   0.0s\n",
      "[CV 2/5] END ...................C=10, gamma=1, kernel=linear; total time=   0.0s\n",
      "[CV 3/5] END ...................C=10, gamma=1, kernel=linear; total time=   0.0s\n",
      "[CV 4/5] END ...................C=10, gamma=1, kernel=linear; total time=   0.0s\n",
      "[CV 5/5] END ...................C=10, gamma=1, kernel=linear; total time=   0.0s\n",
      "[CV 1/5] END ....................C=10, gamma=0.1, kernel=rbf; total time=   0.0s\n",
      "[CV 2/5] END ....................C=10, gamma=0.1, kernel=rbf; total time=   0.0s\n",
      "[CV 3/5] END ....................C=10, gamma=0.1, kernel=rbf; total time=   0.0s\n",
      "[CV 4/5] END ....................C=10, gamma=0.1, kernel=rbf; total time=   0.0s\n",
      "[CV 5/5] END ....................C=10, gamma=0.1, kernel=rbf; total time=   0.0s\n",
      "[CV 1/5] END ................C=10, gamma=0.1, kernel=sigmoid; total time=   0.0s\n",
      "[CV 2/5] END ................C=10, gamma=0.1, kernel=sigmoid; total time=   0.0s\n",
      "[CV 3/5] END ................C=10, gamma=0.1, kernel=sigmoid; total time=   0.0s\n",
      "[CV 4/5] END ................C=10, gamma=0.1, kernel=sigmoid; total time=   0.0s\n",
      "[CV 5/5] END ................C=10, gamma=0.1, kernel=sigmoid; total time=   0.0s\n",
      "[CV 1/5] END .................C=10, gamma=0.1, kernel=linear; total time=   0.0s\n",
      "[CV 2/5] END .................C=10, gamma=0.1, kernel=linear; total time=   0.0s\n",
      "[CV 3/5] END .................C=10, gamma=0.1, kernel=linear; total time=   0.0s\n",
      "[CV 4/5] END .................C=10, gamma=0.1, kernel=linear; total time=   0.0s\n",
      "[CV 5/5] END .................C=10, gamma=0.1, kernel=linear; total time=   0.0s\n",
      "[CV 1/5] END ...................C=10, gamma=0.01, kernel=rbf; total time=   0.0s\n",
      "[CV 2/5] END ...................C=10, gamma=0.01, kernel=rbf; total time=   0.0s\n",
      "[CV 3/5] END ...................C=10, gamma=0.01, kernel=rbf; total time=   0.0s\n",
      "[CV 4/5] END ...................C=10, gamma=0.01, kernel=rbf; total time=   0.0s\n",
      "[CV 5/5] END ...................C=10, gamma=0.01, kernel=rbf; total time=   0.0s\n"
     ]
    },
    {
     "name": "stdout",
     "output_type": "stream",
     "text": [
      "[CV 1/5] END ...............C=10, gamma=0.01, kernel=sigmoid; total time=   0.0s\n",
      "[CV 2/5] END ...............C=10, gamma=0.01, kernel=sigmoid; total time=   0.0s\n",
      "[CV 3/5] END ...............C=10, gamma=0.01, kernel=sigmoid; total time=   0.0s\n",
      "[CV 4/5] END ...............C=10, gamma=0.01, kernel=sigmoid; total time=   0.0s\n",
      "[CV 5/5] END ...............C=10, gamma=0.01, kernel=sigmoid; total time=   0.0s\n",
      "[CV 1/5] END ................C=10, gamma=0.01, kernel=linear; total time=   0.0s\n",
      "[CV 2/5] END ................C=10, gamma=0.01, kernel=linear; total time=   0.0s\n",
      "[CV 3/5] END ................C=10, gamma=0.01, kernel=linear; total time=   0.0s\n",
      "[CV 4/5] END ................C=10, gamma=0.01, kernel=linear; total time=   0.0s\n",
      "[CV 5/5] END ................C=10, gamma=0.01, kernel=linear; total time=   0.0s\n",
      "[CV 1/5] END ..................C=10, gamma=0.001, kernel=rbf; total time=   0.0s\n",
      "[CV 2/5] END ..................C=10, gamma=0.001, kernel=rbf; total time=   0.0s\n",
      "[CV 3/5] END ..................C=10, gamma=0.001, kernel=rbf; total time=   0.0s\n",
      "[CV 4/5] END ..................C=10, gamma=0.001, kernel=rbf; total time=   0.0s\n",
      "[CV 5/5] END ..................C=10, gamma=0.001, kernel=rbf; total time=   0.0s\n",
      "[CV 1/5] END ..............C=10, gamma=0.001, kernel=sigmoid; total time=   0.0s\n",
      "[CV 2/5] END ..............C=10, gamma=0.001, kernel=sigmoid; total time=   0.0s\n",
      "[CV 3/5] END ..............C=10, gamma=0.001, kernel=sigmoid; total time=   0.0s\n",
      "[CV 4/5] END ..............C=10, gamma=0.001, kernel=sigmoid; total time=   0.0s\n",
      "[CV 5/5] END ..............C=10, gamma=0.001, kernel=sigmoid; total time=   0.0s\n",
      "[CV 1/5] END ...............C=10, gamma=0.001, kernel=linear; total time=   0.0s\n",
      "[CV 2/5] END ...............C=10, gamma=0.001, kernel=linear; total time=   0.0s\n",
      "[CV 3/5] END ...............C=10, gamma=0.001, kernel=linear; total time=   0.0s\n",
      "[CV 4/5] END ...............C=10, gamma=0.001, kernel=linear; total time=   0.0s\n",
      "[CV 5/5] END ...............C=10, gamma=0.001, kernel=linear; total time=   0.0s\n",
      "[CV 1/5] END .................C=10, gamma=0.0001, kernel=rbf; total time=   0.0s\n",
      "[CV 2/5] END .................C=10, gamma=0.0001, kernel=rbf; total time=   0.0s\n",
      "[CV 3/5] END .................C=10, gamma=0.0001, kernel=rbf; total time=   0.0s\n",
      "[CV 4/5] END .................C=10, gamma=0.0001, kernel=rbf; total time=   0.0s\n",
      "[CV 5/5] END .................C=10, gamma=0.0001, kernel=rbf; total time=   0.0s\n",
      "[CV 1/5] END .............C=10, gamma=0.0001, kernel=sigmoid; total time=   0.0s\n",
      "[CV 2/5] END .............C=10, gamma=0.0001, kernel=sigmoid; total time=   0.0s\n",
      "[CV 3/5] END .............C=10, gamma=0.0001, kernel=sigmoid; total time=   0.0s\n",
      "[CV 4/5] END .............C=10, gamma=0.0001, kernel=sigmoid; total time=   0.0s\n",
      "[CV 5/5] END .............C=10, gamma=0.0001, kernel=sigmoid; total time=   0.0s\n",
      "[CV 1/5] END ..............C=10, gamma=0.0001, kernel=linear; total time=   0.0s\n",
      "[CV 2/5] END ..............C=10, gamma=0.0001, kernel=linear; total time=   0.0s\n",
      "[CV 3/5] END ..............C=10, gamma=0.0001, kernel=linear; total time=   0.0s\n",
      "[CV 4/5] END ..............C=10, gamma=0.0001, kernel=linear; total time=   0.0s\n",
      "[CV 5/5] END ..............C=10, gamma=0.0001, kernel=linear; total time=   0.0s\n",
      "[CV 1/5] END .....................C=100, gamma=1, kernel=rbf; total time=   0.0s\n",
      "[CV 2/5] END .....................C=100, gamma=1, kernel=rbf; total time=   0.0s\n",
      "[CV 3/5] END .....................C=100, gamma=1, kernel=rbf; total time=   0.0s\n",
      "[CV 4/5] END .....................C=100, gamma=1, kernel=rbf; total time=   0.0s\n",
      "[CV 5/5] END .....................C=100, gamma=1, kernel=rbf; total time=   0.0s\n",
      "[CV 1/5] END .................C=100, gamma=1, kernel=sigmoid; total time=   0.0s\n",
      "[CV 2/5] END .................C=100, gamma=1, kernel=sigmoid; total time=   0.0s\n",
      "[CV 3/5] END .................C=100, gamma=1, kernel=sigmoid; total time=   0.0s\n",
      "[CV 4/5] END .................C=100, gamma=1, kernel=sigmoid; total time=   0.0s\n",
      "[CV 5/5] END .................C=100, gamma=1, kernel=sigmoid; total time=   0.0s\n",
      "[CV 1/5] END ..................C=100, gamma=1, kernel=linear; total time=   0.0s\n",
      "[CV 2/5] END ..................C=100, gamma=1, kernel=linear; total time=   0.0s\n",
      "[CV 3/5] END ..................C=100, gamma=1, kernel=linear; total time=   0.0s\n",
      "[CV 4/5] END ..................C=100, gamma=1, kernel=linear; total time=   0.0s\n",
      "[CV 5/5] END ..................C=100, gamma=1, kernel=linear; total time=   0.0s\n",
      "[CV 1/5] END ...................C=100, gamma=0.1, kernel=rbf; total time=   0.0s\n",
      "[CV 2/5] END ...................C=100, gamma=0.1, kernel=rbf; total time=   0.0s\n",
      "[CV 3/5] END ...................C=100, gamma=0.1, kernel=rbf; total time=   0.0s\n",
      "[CV 4/5] END ...................C=100, gamma=0.1, kernel=rbf; total time=   0.0s\n",
      "[CV 5/5] END ...................C=100, gamma=0.1, kernel=rbf; total time=   0.0s\n",
      "[CV 1/5] END ...............C=100, gamma=0.1, kernel=sigmoid; total time=   0.0s\n",
      "[CV 2/5] END ...............C=100, gamma=0.1, kernel=sigmoid; total time=   0.0s\n",
      "[CV 3/5] END ...............C=100, gamma=0.1, kernel=sigmoid; total time=   0.0s\n",
      "[CV 4/5] END ...............C=100, gamma=0.1, kernel=sigmoid; total time=   0.0s\n",
      "[CV 5/5] END ...............C=100, gamma=0.1, kernel=sigmoid; total time=   0.0s\n",
      "[CV 1/5] END ................C=100, gamma=0.1, kernel=linear; total time=   0.0s\n",
      "[CV 2/5] END ................C=100, gamma=0.1, kernel=linear; total time=   0.0s\n",
      "[CV 3/5] END ................C=100, gamma=0.1, kernel=linear; total time=   0.0s\n",
      "[CV 4/5] END ................C=100, gamma=0.1, kernel=linear; total time=   0.0s\n",
      "[CV 5/5] END ................C=100, gamma=0.1, kernel=linear; total time=   0.0s\n",
      "[CV 1/5] END ..................C=100, gamma=0.01, kernel=rbf; total time=   0.0s\n",
      "[CV 2/5] END ..................C=100, gamma=0.01, kernel=rbf; total time=   0.0s\n",
      "[CV 3/5] END ..................C=100, gamma=0.01, kernel=rbf; total time=   0.0s\n",
      "[CV 4/5] END ..................C=100, gamma=0.01, kernel=rbf; total time=   0.0s\n",
      "[CV 5/5] END ..................C=100, gamma=0.01, kernel=rbf; total time=   0.0s\n",
      "[CV 1/5] END ..............C=100, gamma=0.01, kernel=sigmoid; total time=   0.0s\n",
      "[CV 2/5] END ..............C=100, gamma=0.01, kernel=sigmoid; total time=   0.0s\n",
      "[CV 3/5] END ..............C=100, gamma=0.01, kernel=sigmoid; total time=   0.0s\n",
      "[CV 4/5] END ..............C=100, gamma=0.01, kernel=sigmoid; total time=   0.0s\n",
      "[CV 5/5] END ..............C=100, gamma=0.01, kernel=sigmoid; total time=   0.0s\n",
      "[CV 1/5] END ...............C=100, gamma=0.01, kernel=linear; total time=   0.0s\n",
      "[CV 2/5] END ...............C=100, gamma=0.01, kernel=linear; total time=   0.0s\n",
      "[CV 3/5] END ...............C=100, gamma=0.01, kernel=linear; total time=   0.0s\n",
      "[CV 4/5] END ...............C=100, gamma=0.01, kernel=linear; total time=   0.0s\n",
      "[CV 5/5] END ...............C=100, gamma=0.01, kernel=linear; total time=   0.0s\n",
      "[CV 1/5] END .................C=100, gamma=0.001, kernel=rbf; total time=   0.0s\n",
      "[CV 2/5] END .................C=100, gamma=0.001, kernel=rbf; total time=   0.0s\n",
      "[CV 3/5] END .................C=100, gamma=0.001, kernel=rbf; total time=   0.0s\n",
      "[CV 4/5] END .................C=100, gamma=0.001, kernel=rbf; total time=   0.0s\n",
      "[CV 5/5] END .................C=100, gamma=0.001, kernel=rbf; total time=   0.0s\n",
      "[CV 1/5] END .............C=100, gamma=0.001, kernel=sigmoid; total time=   0.0s\n",
      "[CV 2/5] END .............C=100, gamma=0.001, kernel=sigmoid; total time=   0.0s\n",
      "[CV 3/5] END .............C=100, gamma=0.001, kernel=sigmoid; total time=   0.0s\n",
      "[CV 4/5] END .............C=100, gamma=0.001, kernel=sigmoid; total time=   0.0s\n",
      "[CV 5/5] END .............C=100, gamma=0.001, kernel=sigmoid; total time=   0.0s\n",
      "[CV 1/5] END ..............C=100, gamma=0.001, kernel=linear; total time=   0.0s\n",
      "[CV 2/5] END ..............C=100, gamma=0.001, kernel=linear; total time=   0.0s\n",
      "[CV 3/5] END ..............C=100, gamma=0.001, kernel=linear; total time=   0.0s\n",
      "[CV 4/5] END ..............C=100, gamma=0.001, kernel=linear; total time=   0.0s\n",
      "[CV 5/5] END ..............C=100, gamma=0.001, kernel=linear; total time=   0.0s\n",
      "[CV 1/5] END ................C=100, gamma=0.0001, kernel=rbf; total time=   0.0s\n",
      "[CV 2/5] END ................C=100, gamma=0.0001, kernel=rbf; total time=   0.0s\n",
      "[CV 3/5] END ................C=100, gamma=0.0001, kernel=rbf; total time=   0.0s\n",
      "[CV 4/5] END ................C=100, gamma=0.0001, kernel=rbf; total time=   0.0s\n",
      "[CV 5/5] END ................C=100, gamma=0.0001, kernel=rbf; total time=   0.0s\n",
      "[CV 1/5] END ............C=100, gamma=0.0001, kernel=sigmoid; total time=   0.0s\n",
      "[CV 2/5] END ............C=100, gamma=0.0001, kernel=sigmoid; total time=   0.0s\n",
      "[CV 3/5] END ............C=100, gamma=0.0001, kernel=sigmoid; total time=   0.0s\n",
      "[CV 4/5] END ............C=100, gamma=0.0001, kernel=sigmoid; total time=   0.0s\n",
      "[CV 5/5] END ............C=100, gamma=0.0001, kernel=sigmoid; total time=   0.0s\n",
      "[CV 1/5] END .............C=100, gamma=0.0001, kernel=linear; total time=   0.0s\n",
      "[CV 2/5] END .............C=100, gamma=0.0001, kernel=linear; total time=   0.0s\n",
      "[CV 3/5] END .............C=100, gamma=0.0001, kernel=linear; total time=   0.0s\n",
      "[CV 4/5] END .............C=100, gamma=0.0001, kernel=linear; total time=   0.0s\n",
      "[CV 5/5] END .............C=100, gamma=0.0001, kernel=linear; total time=   0.0s\n",
      "[CV 1/5] END ....................C=1000, gamma=1, kernel=rbf; total time=   0.0s\n",
      "[CV 2/5] END ....................C=1000, gamma=1, kernel=rbf; total time=   0.0s\n",
      "[CV 3/5] END ....................C=1000, gamma=1, kernel=rbf; total time=   0.0s\n",
      "[CV 4/5] END ....................C=1000, gamma=1, kernel=rbf; total time=   0.0s\n",
      "[CV 5/5] END ....................C=1000, gamma=1, kernel=rbf; total time=   0.0s\n",
      "[CV 1/5] END ................C=1000, gamma=1, kernel=sigmoid; total time=   0.0s\n",
      "[CV 2/5] END ................C=1000, gamma=1, kernel=sigmoid; total time=   0.0s\n",
      "[CV 3/5] END ................C=1000, gamma=1, kernel=sigmoid; total time=   0.0s\n",
      "[CV 4/5] END ................C=1000, gamma=1, kernel=sigmoid; total time=   0.0s\n",
      "[CV 5/5] END ................C=1000, gamma=1, kernel=sigmoid; total time=   0.0s\n",
      "[CV 1/5] END .................C=1000, gamma=1, kernel=linear; total time=   0.0s\n",
      "[CV 2/5] END .................C=1000, gamma=1, kernel=linear; total time=   0.0s\n",
      "[CV 3/5] END .................C=1000, gamma=1, kernel=linear; total time=   0.0s\n",
      "[CV 4/5] END .................C=1000, gamma=1, kernel=linear; total time=   0.0s\n",
      "[CV 5/5] END .................C=1000, gamma=1, kernel=linear; total time=   0.0s\n",
      "[CV 1/5] END ..................C=1000, gamma=0.1, kernel=rbf; total time=   0.0s\n",
      "[CV 2/5] END ..................C=1000, gamma=0.1, kernel=rbf; total time=   0.0s\n",
      "[CV 3/5] END ..................C=1000, gamma=0.1, kernel=rbf; total time=   0.0s\n",
      "[CV 4/5] END ..................C=1000, gamma=0.1, kernel=rbf; total time=   0.0s\n",
      "[CV 5/5] END ..................C=1000, gamma=0.1, kernel=rbf; total time=   0.0s\n",
      "[CV 1/5] END ..............C=1000, gamma=0.1, kernel=sigmoid; total time=   0.0s\n",
      "[CV 2/5] END ..............C=1000, gamma=0.1, kernel=sigmoid; total time=   0.0s\n",
      "[CV 3/5] END ..............C=1000, gamma=0.1, kernel=sigmoid; total time=   0.0s\n",
      "[CV 4/5] END ..............C=1000, gamma=0.1, kernel=sigmoid; total time=   0.0s\n",
      "[CV 5/5] END ..............C=1000, gamma=0.1, kernel=sigmoid; total time=   0.0s\n",
      "[CV 1/5] END ...............C=1000, gamma=0.1, kernel=linear; total time=   0.0s\n",
      "[CV 2/5] END ...............C=1000, gamma=0.1, kernel=linear; total time=   0.0s\n",
      "[CV 3/5] END ...............C=1000, gamma=0.1, kernel=linear; total time=   0.0s\n",
      "[CV 4/5] END ...............C=1000, gamma=0.1, kernel=linear; total time=   0.0s\n",
      "[CV 5/5] END ...............C=1000, gamma=0.1, kernel=linear; total time=   0.0s\n",
      "[CV 1/5] END .................C=1000, gamma=0.01, kernel=rbf; total time=   0.0s\n",
      "[CV 2/5] END .................C=1000, gamma=0.01, kernel=rbf; total time=   0.0s\n",
      "[CV 3/5] END .................C=1000, gamma=0.01, kernel=rbf; total time=   0.0s\n",
      "[CV 4/5] END .................C=1000, gamma=0.01, kernel=rbf; total time=   0.0s\n",
      "[CV 5/5] END .................C=1000, gamma=0.01, kernel=rbf; total time=   0.0s\n",
      "[CV 1/5] END .............C=1000, gamma=0.01, kernel=sigmoid; total time=   0.0s\n",
      "[CV 2/5] END .............C=1000, gamma=0.01, kernel=sigmoid; total time=   0.0s\n",
      "[CV 3/5] END .............C=1000, gamma=0.01, kernel=sigmoid; total time=   0.0s\n",
      "[CV 4/5] END .............C=1000, gamma=0.01, kernel=sigmoid; total time=   0.0s\n",
      "[CV 5/5] END .............C=1000, gamma=0.01, kernel=sigmoid; total time=   0.0s\n",
      "[CV 1/5] END ..............C=1000, gamma=0.01, kernel=linear; total time=   0.0s\n",
      "[CV 2/5] END ..............C=1000, gamma=0.01, kernel=linear; total time=   0.0s\n",
      "[CV 3/5] END ..............C=1000, gamma=0.01, kernel=linear; total time=   0.0s\n",
      "[CV 4/5] END ..............C=1000, gamma=0.01, kernel=linear; total time=   0.0s\n",
      "[CV 5/5] END ..............C=1000, gamma=0.01, kernel=linear; total time=   0.0s\n",
      "[CV 1/5] END ................C=1000, gamma=0.001, kernel=rbf; total time=   0.0s\n",
      "[CV 2/5] END ................C=1000, gamma=0.001, kernel=rbf; total time=   0.0s\n",
      "[CV 3/5] END ................C=1000, gamma=0.001, kernel=rbf; total time=   0.0s\n",
      "[CV 4/5] END ................C=1000, gamma=0.001, kernel=rbf; total time=   0.0s\n",
      "[CV 5/5] END ................C=1000, gamma=0.001, kernel=rbf; total time=   0.0s\n",
      "[CV 1/5] END ............C=1000, gamma=0.001, kernel=sigmoid; total time=   0.0s\n",
      "[CV 2/5] END ............C=1000, gamma=0.001, kernel=sigmoid; total time=   0.0s\n",
      "[CV 3/5] END ............C=1000, gamma=0.001, kernel=sigmoid; total time=   0.0s\n",
      "[CV 4/5] END ............C=1000, gamma=0.001, kernel=sigmoid; total time=   0.0s\n",
      "[CV 5/5] END ............C=1000, gamma=0.001, kernel=sigmoid; total time=   0.0s\n",
      "[CV 1/5] END .............C=1000, gamma=0.001, kernel=linear; total time=   0.0s\n",
      "[CV 2/5] END .............C=1000, gamma=0.001, kernel=linear; total time=   0.0s\n",
      "[CV 3/5] END .............C=1000, gamma=0.001, kernel=linear; total time=   0.0s\n",
      "[CV 4/5] END .............C=1000, gamma=0.001, kernel=linear; total time=   0.0s\n",
      "[CV 5/5] END .............C=1000, gamma=0.001, kernel=linear; total time=   0.0s\n",
      "[CV 1/5] END ...............C=1000, gamma=0.0001, kernel=rbf; total time=   0.0s\n",
      "[CV 2/5] END ...............C=1000, gamma=0.0001, kernel=rbf; total time=   0.0s\n",
      "[CV 3/5] END ...............C=1000, gamma=0.0001, kernel=rbf; total time=   0.0s\n",
      "[CV 4/5] END ...............C=1000, gamma=0.0001, kernel=rbf; total time=   0.0s\n",
      "[CV 5/5] END ...............C=1000, gamma=0.0001, kernel=rbf; total time=   0.0s\n",
      "[CV 1/5] END ...........C=1000, gamma=0.0001, kernel=sigmoid; total time=   0.0s\n",
      "[CV 2/5] END ...........C=1000, gamma=0.0001, kernel=sigmoid; total time=   0.0s\n",
      "[CV 3/5] END ...........C=1000, gamma=0.0001, kernel=sigmoid; total time=   0.0s\n",
      "[CV 4/5] END ...........C=1000, gamma=0.0001, kernel=sigmoid; total time=   0.0s\n",
      "[CV 5/5] END ...........C=1000, gamma=0.0001, kernel=sigmoid; total time=   0.0s\n",
      "[CV 1/5] END ............C=1000, gamma=0.0001, kernel=linear; total time=   0.0s\n",
      "[CV 2/5] END ............C=1000, gamma=0.0001, kernel=linear; total time=   0.0s\n",
      "[CV 3/5] END ............C=1000, gamma=0.0001, kernel=linear; total time=   0.0s\n",
      "[CV 4/5] END ............C=1000, gamma=0.0001, kernel=linear; total time=   0.0s\n",
      "[CV 5/5] END ............C=1000, gamma=0.0001, kernel=linear; total time=   0.0s\n"
     ]
    },
    {
     "data": {
      "text/plain": [
       "GridSearchCV(cv=5, estimator=SVC(),\n",
       "             param_grid={'C': [0.1, 1, 10, 100, 1000],\n",
       "                         'gamma': [1, 0.1, 0.01, 0.001, 0.0001],\n",
       "                         'kernel': ['rbf', 'sigmoid', 'linear']},\n",
       "             verbose=3)"
      ]
     },
     "execution_count": 91,
     "metadata": {},
     "output_type": "execute_result"
    }
   ],
   "source": [
    "from sklearn.model_selection import GridSearchCV\n",
    "\n",
    "# defining parameter range\n",
    "param_grid = {'C': [0.1, 1, 10, 100, 1000],\n",
    "            'gamma': [1, 0.1, 0.01, 0.001, 0.0001],\n",
    "            'kernel': ['rbf','sigmoid','linear']}\n",
    "\n",
    "grid = GridSearchCV(SVC(), param_grid, refit = True, verbose = 3, cv = 5)\n",
    "\n",
    "# fitting the model for grid search\n",
    "grid.fit(X_train, y_train)"
   ]
  },
  {
   "cell_type": "code",
   "execution_count": 92,
   "id": "03caf3ad",
   "metadata": {},
   "outputs": [
    {
     "name": "stdout",
     "output_type": "stream",
     "text": [
      "{'C': 1, 'gamma': 1, 'kernel': 'linear'}\n",
      "SVC(C=1, gamma=1, kernel='linear')\n"
     ]
    }
   ],
   "source": [
    "print(grid.best_params_)\n",
    "print(grid.best_estimator_)"
   ]
  },
  {
   "cell_type": "code",
   "execution_count": 93,
   "id": "f73d0801",
   "metadata": {},
   "outputs": [],
   "source": [
    "model = grid.best_estimator_"
   ]
  },
  {
   "cell_type": "code",
   "execution_count": 94,
   "id": "22daadfe",
   "metadata": {},
   "outputs": [],
   "source": [
    "y_pred = model.predict(X_test)"
   ]
  },
  {
   "cell_type": "code",
   "execution_count": 95,
   "id": "1a2532fa",
   "metadata": {},
   "outputs": [
    {
     "name": "stdout",
     "output_type": "stream",
     "text": [
      "0.9777777777777777\n",
      "[[19  0  0]\n",
      " [ 0 12  1]\n",
      " [ 0  0 13]]\n"
     ]
    }
   ],
   "source": [
    "print(f'accuracy score : {accuracy_score(y_test,y_pred)}')\n",
    "print('----------------------------')\n",
    "print('confusion matrix')\n",
    "print(confusion_matrix(y_test,y_pred))"
   ]
  },
  {
   "cell_type": "markdown",
   "id": "5d3661bf",
   "metadata": {},
   "source": [
    "### visualization"
   ]
  },
  {
   "cell_type": "markdown",
   "id": "9df85250",
   "metadata": {},
   "source": [
    "#### 두 개의 예측변수를 이용하여 하나의 타겟변수를 예측할 때 시각화 할 수 있다."
   ]
  },
  {
   "cell_type": "code",
   "execution_count": 107,
   "id": "f05dfb0a",
   "metadata": {},
   "outputs": [
    {
     "data": {
      "text/plain": [
       "SVC(gamma=1.0, kernel='linear', random_state=924)"
      ]
     },
     "execution_count": 107,
     "metadata": {},
     "output_type": "execute_result"
    }
   ],
   "source": [
    "from sklearn import datasets\n",
    "\n",
    "iris = datasets.load_iris()\n",
    "X = iris.data[:,[2,3]]\n",
    "y = iris.target\n",
    "\n",
    "X_train, X_test, y_train, y_test = train_test_split(X, y, test_size=0.3, random_state=924, stratify=y)\n",
    "\n",
    "sc = StandardScaler()\n",
    "sc.fit(X_train)\n",
    "X_train_std = sc.transform(X_train)\n",
    "X_test_std = sc.transform(X_test)\n",
    "\n",
    "svm = SVC(kernel = 'linear', random_state=924, gamma=1.0, C=1.0)\n",
    "svm.fit(X_train_std, y_train)"
   ]
  },
  {
   "cell_type": "code",
   "execution_count": 120,
   "id": "061af2c6",
   "metadata": {},
   "outputs": [
    {
     "data": {
      "text/plain": [
       "array([2, 2, 2, 2, 2, 2, 2, 2, 2, 2, 2, 2, 2, 2, 2, 2, 2, 2, 2, 2, 2, 2,\n",
       "       2, 2, 2, 2, 2, 2, 2, 2, 2, 2, 2, 2, 2, 2, 2, 2, 2, 2, 2, 2, 2, 2,\n",
       "       2])"
      ]
     },
     "execution_count": 120,
     "metadata": {},
     "output_type": "execute_result"
    }
   ],
   "source": [
    "svm.predict(X_test)"
   ]
  },
  {
   "cell_type": "code",
   "execution_count": 116,
   "id": "e04dc41e",
   "metadata": {},
   "outputs": [],
   "source": [
    "def sv_plot_clf(X, y, classifier, test_idx = None, resolution = 0.02):\n",
    "    from matplotlib.colors import ListedColormap\n",
    "    import matplotlib.pyplot as plt\n",
    "    \n",
    "    marker = ('s','x','o','^','v')\n",
    "    colors = ('red','blue','lightgreen','gray','cyan')\n",
    "    cmap = ListedColormap(colors[:len(np.unique(y))])\n",
    "    \n",
    "    x1_min, x1_max = X[:,0].min() - 1, X[:,0].max() + 1\n",
    "    x2_min, x2_max = X[:,0].min() - 1, X[:,1].max() + 1\n",
    "    xx1, xx2 = np.meshgrid(np.arange(x1_min, x1_max, resolution), np.arange(x2_min, x2_max, resolution))\n",
    "    Z = classifier.predict(np.array([xx1.ravel(), xx2.ravel()]).T)\n",
    "    Z = Z.reshape(xx1.shape)\n",
    "    plt.contourf(xx1, xx2, Z, alpha=0.3, cmap=cmap)\n",
    "    plt.xlim(xx1.min(), xx1.max())\n",
    "    plt.ylim(xx2.min(), xx2.max())\n",
    "    \n",
    "    for idx, cl in enumerate(np.unique(y)):\n",
    "        plt.scatter(x = X[y == cl, 0], y = X[y == cl, 1], \n",
    "                    alpha=0.8, c=colors[idx], marker=marker[idx], label=cl, edgecolors='black')\n",
    "    \n",
    "    if test_idx:\n",
    "        X_test, y_test = X[test_idx,:], y[test_idx]\n",
    "        plt.scatter(X_test[:,0], X_test[:,1], c='', edgecolor='black', alpha=1.0, \n",
    "                    linewidth=1, marker='o', s=100, label='test set')"
   ]
  },
  {
   "cell_type": "code",
   "execution_count": 117,
   "id": "22799d98",
   "metadata": {
    "scrolled": true
   },
   "outputs": [
    {
     "name": "stderr",
     "output_type": "stream",
     "text": [
      "<ipython-input-116-6121f477a4f0>:24: MatplotlibDeprecationWarning: Using a string of single character colors as a color sequence is deprecated since 3.2 and will be removed two minor releases later. Use an explicit list instead.\n",
      "  plt.scatter(X_test[:,0], X_test[:,1], c='', edgecolor='black', alpha=1.0,\n"
     ]
    },
    {
     "data": {
      "image/png": "[encoded data removed]",
      "text/plain": [
       "<Figure size 432x288 with 1 Axes>"
      ]
     },
     "metadata": {
      "needs_background": "light"
     },
     "output_type": "display_data"
    }
   ],
   "source": [
    "X_combined_std = np.vstack((X_train_std,X_test_std))\n",
    "y_combined = np.hstack((y_train,y_test))\n",
    "sv_plot_clf(X=X_combined_std,y=y_combined, classifier=svm, test_idx=range(105,150))\n",
    "plt.xlabel('petal length(standardized)')\n",
    "plt.ylabel('petal width(standardized)')\n",
    "plt.tight_layout()\n",
    "plt.show()"
   ]
  },
  {
   "cell_type": "markdown",
   "id": "7faeb89d",
   "metadata": {},
   "source": [
    "### regression"
   ]
  },
  {
   "cell_type": "code",
   "execution_count": 26,
   "id": "8eed60bd",
   "metadata": {},
   "outputs": [],
   "source": [
    "from sklearn.datasets import load_iris\n",
    "from sklearn.model_selection import train_test_split\n",
    "from sklearn.ensemble import RandomForestRegressor"
   ]
  },
  {
   "cell_type": "code",
   "execution_count": null,
   "id": "fb3bf61b",
   "metadata": {},
   "outputs": [],
   "source": [
    "rfr = RandomForestRegressor()"
   ]
  }
 ],
 "metadata": {
  "kernelspec": {
   "display_name": "Python 3",
   "language": "python",
   "name": "python3"
  },
  "language_info": {
   "codemirror_mode": {
    "name": "ipython",
    "version": 3
   },
   "file_extension": ".py",
   "mimetype": "text/x-python",
   "name": "python",
   "nbconvert_exporter": "python",
   "pygments_lexer": "ipython3",
   "version": "3.8.8"
  }
 },
 "nbformat": 4,
 "nbformat_minor": 5
}
